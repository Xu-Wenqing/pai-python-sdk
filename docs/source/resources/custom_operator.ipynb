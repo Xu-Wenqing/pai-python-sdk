{
 "cells": [
  {
   "cell_type": "markdown",
   "metadata": {
    "collapsed": true,
    "pycharm": {
     "name": "#%% md\n"
    }
   },
   "source": [
    "# 自定义工作流组件\n",
    "\n",
    "在以下示例中，我们基于自定义镜像和Python脚本，构建了一个自定义任务组件。这个自定义组件能够注册保存到PAI的后端，也能够用于构建工作流，然后提交到PAI的工作流服务执行。\n",
    "\n",
    "\n",
    "## 准备工作\n",
    "\n",
    "请首先安装PAI SDK，以支持运行以下的示例代码。"
   ]
  },
  {
   "cell_type": "code",
   "execution_count": 1,
   "outputs": [],
   "source": [
    "import sys\n",
    "\n",
    "!{sys.executable} -m pip install https://pai-sdk.oss-cn-shanghai.aliyuncs.com/alipai/dist/alipai-0.3.4a1-py2.py3-none-any.whl"
   ],
   "metadata": {
    "collapsed": false,
    "pycharm": {
     "name": "#%%\n"
    }
   }
  },
  {
   "cell_type": "markdown",
   "source": [
    "## 初始化默认的Session\n",
    "\n",
    "请在阿里云的控制台，获取使用的鉴权凭证和工作空间\n",
    "\n",
    "- AccessKeyId和AccessKeySecret\n",
    "\n",
    "请通过 [RAM控制台](https://ram.console.aliyun.com/manage/ak?spm=a2c8b.12215454.top-nav.dak.1704336aEeHgvy) 获取当前账号使用的AK信息\n",
    "\n",
    "- WorkspaceId\n",
    "\n",
    "通过 [PAI的控制台](https://pai.console.aliyun.com/?spm=a2c4g.11186623.0.0.506a7ba7JBg0qi&regionId=cn-hangzhou#/workspace/list) 查看你所在的AI工作空间ID.\n",
    "\n",
    "- OSS Bucket Name\n",
    "\n",
    "通过 [OSS控制台](https://oss.console.aliyun.com/) 查看可用的OSS Bucket，请确认使用的OSS region和工作空间是一致的。\n"
   ],
   "metadata": {
    "collapsed": false,
    "pycharm": {
     "name": "#%% md\n"
    }
   }
  },
  {
   "cell_type": "code",
   "execution_count": 2,
   "outputs": [
    {
     "name": "stdout",
     "output_type": "stream",
     "text": [
      "0.3.4b1\n"
     ]
    }
   ],
   "source": [
    "import pai\n",
    "\n",
    "print(pai.__version__)\n",
    "\n",
    "from pai.core.session import setup_default_session, Session\n",
    "\n",
    "sess = Session.current()\n",
    "\n",
    "if not sess:\n",
    "    print(\"config session\")\n",
    "    sess = setup_default_session(\n",
    "        access_key_id=\"<YourAccessKeyId>\",\n",
    "        access_key_secret=\"<YourAccessKeySecret>\",\n",
    "        region_id=\"<RegionIdWorking>\",\n",
    "        workspace_id=\"<YourWorkspaceId>\",\n",
    "        oss_bucket_name=\"<YourOssBucketName>\",\n",
    "    )\n",
    "    # 将当前的配置持久化到 ~/.pai/config.json，SDK默认从对应的路径读取配置初始化默认session。\n",
    "    sess.persist_config()\n",
    "\n",
    "assert sess.oss_bucket is not None"
   ],
   "metadata": {
    "collapsed": false,
    "pycharm": {
     "name": "#%%\n"
    }
   }
  },
  {
   "cell_type": "markdown",
   "source": [
    "## 准备数据\n",
    "\n",
    "我们构建的组件脚本，会去读取OSS上的数据集进行训练，输出模型。在这里，我们使用SKLearn提供的iris数据，上传到OSS，作为组件的输入准备。\n",
    "\n",
    "- train_data_uri: 训练使用的数据集OSS URI\n",
    "\n",
    "- test_data_uri: 测试使用的数据集OSS URI.\n",
    "\n",
    "- output_path_uri: 组件输出的OSS URI."
   ],
   "metadata": {
    "collapsed": false,
    "pycharm": {
     "name": "#%% md\n"
    }
   }
  },
  {
   "cell_type": "code",
   "source": [
    "from sklearn import datasets\n",
    "from sklearn.model_selection import train_test_split\n",
    "import pandas as pd\n",
    "import numpy as np\n",
    "\n",
    "oss_bucket = sess.oss_bucket  # type: oss2.Bucket\n",
    "\n",
    "iris = datasets.load_iris()\n",
    "df = pd.DataFrame(\n",
    "    data=np.c_[iris[\"data\"], iris[\"target\"]],\n",
    "    columns=iris[\"feature_names\"] + [\"target\"],\n",
    ")\n",
    "\n",
    "train, test = train_test_split(df, test_size=0.3)\n",
    "\n",
    "# 上传训练数据集\n",
    "train.to_csv(\"train.csv\", sep=\",\", index=False)\n",
    "oss_bucket.put_object_from_file(\n",
    "    \"custom-job-example/train-data/train.csv\", filename=\"train.csv\"\n",
    ")\n",
    "\n",
    "# 上传测试数据集\n",
    "test.to_csv(\"test.csv\", sep=\",\", index=False)\n",
    "oss_bucket.put_object_from_file(\n",
    "    \"custom-job-example/test-data/test.csv\", filename=\"test.csv\"\n",
    ")\n",
    "\n",
    "train_data_uri = (\n",
    "    \"oss://{bucket_name}.{endpoint}/custom-job-example/train-data/train.csv\".format(\n",
    "        bucket_name=oss_bucket.bucket_name,\n",
    "        endpoint=oss_bucket.endpoint.strip(\"https://\"),\n",
    "    )\n",
    ")\n",
    "test_data_uri = (\n",
    "    \"oss://{bucket_name}.{endpoint}/custom-job-example/test-data/test.csv\".format(\n",
    "        bucket_name=oss_bucket.bucket_name,\n",
    "        endpoint=oss_bucket.endpoint.strip(\"https://\"),\n",
    "    )\n",
    ")\n",
    "\n",
    "print(\"train_data_uri\", train_data_uri)\n",
    "print(\"test_data_uri\", test_data_uri)\n",
    "\n",
    "output_path_uri = \"oss://{bucket_name}.{endpoint}/custom-job-example/output/\".format(\n",
    "    bucket_name=oss_bucket.bucket_name,\n",
    "    endpoint=oss_bucket.endpoint.strip(\"https://\"),\n",
    ")\n",
    "print(\"output_path_uri\", output_path_uri)"
   ],
   "metadata": {
    "collapsed": false,
    "pycharm": {
     "name": "#%%\n"
    }
   },
   "execution_count": 3,
   "outputs": [
    {
     "name": "stdout",
     "output_type": "stream",
     "text": [
      "train_data_uri oss://lq-pai-test-1.oss-cn-hangzhou.aliyuncs.com/custom-job-example/train-data/train.csv\n",
      "test_data_uri oss://lq-pai-test-1.oss-cn-hangzhou.aliyuncs.com/custom-job-example/test-data/test.csv\n",
      "output_path_uri oss://lq-pai-test-1.oss-cn-hangzhou.aliyuncs.com/custom-job-example/output/\n"
     ]
    }
   ]
  },
  {
   "cell_type": "markdown",
   "source": [
    "\n",
    "## 构建自定义组件\n",
    "\n",
    "自定义组件的构建任务，会被提交运行在PAI-DLC:\n",
    "\n",
    "- 用户通过提供一个作业运行的脚本，以及使用的镜像，定义自定义任务的逻辑。\n",
    "\n",
    "- 作业使用脚本会被上传到当前Session的OSS Bucket上，当PAI-DLC作业拉起时会被准备到执行的环境中。\n",
    "\n",
    "- 组件的参数，会通过Arguments的方式传递给到这个任务脚本，而输入的数据，会通过mount的方式挂载到作业容器上，用户可以通过本地的方式读取到对应的数据。"
   ],
   "metadata": {
    "collapsed": false,
    "pycharm": {
     "name": "#%% md\n"
    }
   }
  },
  {
   "cell_type": "code",
   "execution_count": 18,
   "outputs": [],
   "source": [
    "source_code_dir = \"source_scripts\"\n",
    "!mkdir -p $source_code_dir"
   ],
   "metadata": {
    "collapsed": false,
    "pycharm": {
     "name": "#%%\n"
    }
   }
  },
  {
   "cell_type": "code",
   "source": [
    "%%writefile $source_code_dir/train.py\n",
    "\n",
    "import argparse\n",
    "import os\n",
    "\n",
    "import pandas as pd\n",
    "from joblib import dump\n",
    "from sklearn.ensemble import RandomForestClassifier\n",
    "from sklearn.metrics import accuracy_score\n",
    "\n",
    "TRAINING_BASE_DIR = \"/ml/\"\n",
    "TRAINING_OUTPUT_MODEL_DIR = os.path.join(TRAINING_BASE_DIR, \"output/model/\")\n",
    "\n",
    "TRAINING_OUTPUT_ACCURACY_PATH = os.path.join(\n",
    "    TRAINING_BASE_DIR, \"output/output_parameters/test-accuracy\"\n",
    ")\n",
    "\n",
    "\n",
    "def load_dataset(path):\n",
    "    if not os.path.exists(path):\n",
    "        raise ValueError(\"Input data path not exists: {}\".format(path))\n",
    "\n",
    "    if os.path.isfile(path):\n",
    "        file_path = path\n",
    "    else:\n",
    "        # use first file in the channel dir.\n",
    "        file_name = next(\n",
    "            iter(\n",
    "                [f for f in os.listdir(path) if os.path.isfile(os.path.join(path, f))]\n",
    "            ),\n",
    "            None,\n",
    "        )\n",
    "        if not file_name:\n",
    "            raise ValueError(f\"Not found input file in channel path: {path}\")\n",
    "        file_path = os.path.join(path, file_name)\n",
    "    df = pd.read_csv(\n",
    "        filepath_or_buffer=file_path,\n",
    "        sep=\",\",\n",
    "    )\n",
    "\n",
    "    y = df[\"target\"]\n",
    "    x = df.drop([\"target\"], axis=1)\n",
    "    return x, y\n",
    "\n",
    "\n",
    "def main():\n",
    "    parser = argparse.ArgumentParser(description=\"RandomForest train.\")\n",
    "    parser.add_argument(\n",
    "        \"--n_estimator\", type=int, default=100, help=\"The number of trees in the forest\"\n",
    "    )\n",
    "    parser.add_argument(\n",
    "        \"--criterion\",\n",
    "        type=str,\n",
    "        default=\"gini\",\n",
    "        choices=[\"gini\", \"entropy\"],\n",
    "        help=\"The function to measure the quality of a split, supported criteria: {'gini', 'entropy'}\",\n",
    "    )\n",
    "\n",
    "    parser.add_argument(\n",
    "        \"--max_depth\",\n",
    "        type=int,\n",
    "        default=10,\n",
    "        help=\"The maximum depth of the tree.\",\n",
    "    )\n",
    "\n",
    "    parser.add_argument(\n",
    "        \"--train\",\n",
    "        type=str,\n",
    "        default=None,\n",
    "        help=\"Input train data path.\",\n",
    "    )\n",
    "    parser.add_argument(\n",
    "        \"--test\",\n",
    "        type=str,\n",
    "        default=None,\n",
    "        help=\"Input train data path.\",\n",
    "    )\n",
    "\n",
    "    args, _ = parser.parse_known_args()\n",
    "\n",
    "    estimator = RandomForestClassifier(\n",
    "        n_estimators=args.n_estimator,\n",
    "        criterion=args.criterion,\n",
    "        max_depth=args.max_depth,\n",
    "        oob_score=True,\n",
    "    )\n",
    "    train_x, train_y = load_dataset(args.train)\n",
    "    estimator = estimator.fit(train_x, train_y)\n",
    "    print(\n",
    "        \"oob_score for the train dataset: train:oob_score={0}\".format(\n",
    "            estimator.oob_score_\n",
    "        )\n",
    "    )\n",
    "\n",
    "    # 使用测试集评估模型，将模型在测试集上的精度到 /ml/output/output_parameters/test_accuracy 文件\n",
    "    if args.test:\n",
    "        print(\"Score the model with test dataset: {}\".format(args.test))\n",
    "        test_x, test_y = load_dataset(args.test)\n",
    "        pred_y = estimator.predict(test_x)\n",
    "        accuracy = accuracy_score(test_y, pred_y)\n",
    "        print(\"classifier accuracy score: test:accuracy={0}\".format(accuracy))\n",
    "        os.makedirs(os.path.dirname(TRAINING_OUTPUT_ACCURACY_PATH), exist_ok=True)\n",
    "        with open(TRAINING_OUTPUT_ACCURACY_PATH, \"w\") as f:\n",
    "            f.write(str(accuracy))\n",
    "\n",
    "    # 将训练获得的模型写出到 /ml/output/model/model.pkl\n",
    "    os.makedirs(TRAINING_OUTPUT_MODEL_DIR, exist_ok=True)\n",
    "    model_path = os.path.join(TRAINING_OUTPUT_MODEL_DIR, \"model.pkl\")\n",
    "    dump(estimator, model_path)\n",
    "    print(f\"model dump succeed: {model_path}\")\n",
    "\n",
    "\n",
    "if __name__ == \"__main__\":\n",
    "    main()"
   ],
   "metadata": {
    "collapsed": false,
    "pycharm": {
     "name": "#%%\n"
    }
   },
   "execution_count": 23,
   "outputs": [
    {
     "name": "stdout",
     "output_type": "stream",
     "text": [
      "Overwriting source_scripts/train.py\n"
     ]
    }
   ]
  },
  {
   "cell_type": "code",
   "execution_count": 21,
   "outputs": [
    {
     "name": "stdout",
     "output_type": "stream",
     "text": [
      "InputsSpec:\n",
      "\tPipelineParameter:{Name:job_config, Kind:inputs, Required:True, Value:None, Desc:PAI-DLC job config, including worker spec, resource spec, etc.}\n",
      "\tPipelineParameter:{Name:output_path, Kind:inputs, Required:False, Value:, Desc:Job output path, could be OSS url or NAS url.}\n",
      "\tPipelineParameter:{Name:n_estimator, Kind:inputs, Required:False, Value:100, Desc:None}\n",
      "\tPipelineParameter:{Name:max_depth, Kind:inputs, Required:False, Value:10, Desc:None}\n",
      "\tPipelineParameter:{Name:criteria, Kind:inputs, Required:False, Value:gini, Desc:None}\n",
      "\tPipelineArtifact:{Name:train, Kind:inputs, Required:False, Value:None, Desc:None}\n",
      "\tPipelineArtifact:{Name:test, Kind:inputs, Required:False, Value:None, Desc:None}\n",
      "OutputsSpec:\n",
      "\tPipelineParameter:{Name:test-accuracy, Kind:outputs, Required:True, Value:None, Desc:None}\n"
     ]
    }
   ],
   "source": [
    "from pai.operator import CustomJobOperator\n",
    "from pai.operator.types import (\n",
    "    PipelineArtifact,\n",
    "    PipelineParameter,\n",
    "    ArtifactMetadataUtils,\n",
    ")\n",
    "\n",
    "from pai.job.common import JobConfig\n",
    "\n",
    "\n",
    "# 我们使用了PAI仓库内的社区版本的XGBoost镜像，作为作业执行的镜像.\n",
    "image_uri = \"registry.{}.aliyuncs.com/pai-dlc/xgboost-training:1.6.0-cpu-py36-ubuntu18.04\".format(\n",
    "    sess.region_id\n",
    ")\n",
    "\n",
    "\n",
    "# 构建作业组件.\n",
    "operator = CustomJobOperator(\n",
    "    # 作业组件的EntryPoint，相应的脚本会以 python <entry_point> --arg1 value1 --arg2 value2 的方式拉起。\n",
    "    entry_point=\"train.py\",\n",
    "    # 作业使用的本地脚本目录：会被打包上传到OSS Bucket，当作业运行时准备到执行环境中。\n",
    "    source_code=source_code_dir,\n",
    "    # 作业脚本运行使用的脚本\n",
    "    image_uri=image_uri,\n",
    "    # 定义组件的输入:\n",
    "    # 这个组件会有两个OSS的输入：train 和 test.\n",
    "    parameters={\n",
    "        \"n_estimator\": 100,\n",
    "        \"max_depth\": 10,\n",
    "        \"criteria\": \"gini\",\n",
    "    },\n",
    "    inputs=[\n",
    "        PipelineArtifact(\n",
    "            name=\"train\",\n",
    "            metadata=ArtifactMetadataUtils.oss_dataset(),\n",
    "        ),\n",
    "        PipelineArtifact(\n",
    "            name=\"test\",\n",
    "            metadata=ArtifactMetadataUtils.oss_dataset(),\n",
    "        ),\n",
    "    ],\n",
    "    # 这个组件的输出参数\n",
    "    outputs=[PipelineParameter(\"test-accuracy\")],\n",
    ")\n",
    "\n",
    "# 查看组件的输入输出\n",
    "print(operator.inputs)\n",
    "print(operator.outputs)"
   ],
   "metadata": {
    "collapsed": false,
    "pycharm": {
     "name": "#%%\n"
    }
   }
  },
  {
   "cell_type": "code",
   "execution_count": 22,
   "outputs": [
    {
     "name": "stdout",
     "output_type": "stream",
     "text": [
      "Create pipeline run success (run_id: flow-ochc5mis09cs9x20fu), please visit the link below to view the run detail.\n",
      "https://pai.console.aliyun.com/console?regionId=cn-hangzhou#/studio/task/detail/flow-ochc5mis09cs9x20fu\n",
      "Wait for run workflow init\n",
      "Add Node Logger: ExampleCustomOpRun, node-5lw2h9fcvgnsuqudvf\n"
     ]
    },
    {
     "ename": "ConnectTimeout",
     "evalue": "HTTPSConnectionPool(host='paiflow.cn-hangzhou.aliyuncs.com', port=443): Max retries exceeded with url: /api/v1/runs/flow-ochc5mis09cs9x20fu/nodes/node-5lw2h9fcvgnsuqudvf?Depth=2 (Caused by ConnectTimeoutError(<Tea.vendored.requests.packages.urllib3.connection.VerifiedHTTPSConnection object at 0x7fcebbba4df0>, 'Connection to paiflow.cn-hangzhou.aliyuncs.com timed out. (connect timeout=5.0)'))",
     "output_type": "error",
     "traceback": [
      "\u001B[0;31m---------------------------------------------------------------------------\u001B[0m",
      "\u001B[0;31mtimeout\u001B[0m                                   Traceback (most recent call last)",
      "\u001B[0;32m/usr/local/anaconda3/lib/python3.8/site-packages/Tea/vendored/requests/packages/urllib3/connection.py\u001B[0m in \u001B[0;36m_new_conn\u001B[0;34m(self)\u001B[0m\n\u001B[1;32m    139\u001B[0m         \u001B[0;32mtry\u001B[0m\u001B[0;34m:\u001B[0m\u001B[0;34m\u001B[0m\u001B[0;34m\u001B[0m\u001B[0m\n\u001B[0;32m--> 140\u001B[0;31m             conn = connection.create_connection(\n\u001B[0m\u001B[1;32m    141\u001B[0m                 (self.host, self.port), self.timeout, **extra_kw)\n",
      "\u001B[0;32m/usr/local/anaconda3/lib/python3.8/site-packages/Tea/vendored/requests/packages/urllib3/util/connection.py\u001B[0m in \u001B[0;36mcreate_connection\u001B[0;34m(address, timeout, source_address, socket_options)\u001B[0m\n\u001B[1;32m     82\u001B[0m     \u001B[0;32mif\u001B[0m \u001B[0merr\u001B[0m \u001B[0;32mis\u001B[0m \u001B[0;32mnot\u001B[0m \u001B[0;32mNone\u001B[0m\u001B[0;34m:\u001B[0m\u001B[0;34m\u001B[0m\u001B[0;34m\u001B[0m\u001B[0m\n\u001B[0;32m---> 83\u001B[0;31m         \u001B[0;32mraise\u001B[0m \u001B[0merr\u001B[0m\u001B[0;34m\u001B[0m\u001B[0;34m\u001B[0m\u001B[0m\n\u001B[0m\u001B[1;32m     84\u001B[0m \u001B[0;34m\u001B[0m\u001B[0m\n",
      "\u001B[0;32m/usr/local/anaconda3/lib/python3.8/site-packages/Tea/vendored/requests/packages/urllib3/util/connection.py\u001B[0m in \u001B[0;36mcreate_connection\u001B[0;34m(address, timeout, source_address, socket_options)\u001B[0m\n\u001B[1;32m     72\u001B[0m                 \u001B[0msock\u001B[0m\u001B[0;34m.\u001B[0m\u001B[0mbind\u001B[0m\u001B[0;34m(\u001B[0m\u001B[0msource_address\u001B[0m\u001B[0;34m)\u001B[0m\u001B[0;34m\u001B[0m\u001B[0;34m\u001B[0m\u001B[0m\n\u001B[0;32m---> 73\u001B[0;31m             \u001B[0msock\u001B[0m\u001B[0;34m.\u001B[0m\u001B[0mconnect\u001B[0m\u001B[0;34m(\u001B[0m\u001B[0msa\u001B[0m\u001B[0;34m)\u001B[0m\u001B[0;34m\u001B[0m\u001B[0;34m\u001B[0m\u001B[0m\n\u001B[0m\u001B[1;32m     74\u001B[0m             \u001B[0;32mreturn\u001B[0m \u001B[0msock\u001B[0m\u001B[0;34m\u001B[0m\u001B[0;34m\u001B[0m\u001B[0m\n",
      "\u001B[0;31mtimeout\u001B[0m: timed out",
      "\nDuring handling of the above exception, another exception occurred:\n",
      "\u001B[0;31mConnectTimeoutError\u001B[0m                       Traceback (most recent call last)",
      "\u001B[0;32m/usr/local/anaconda3/lib/python3.8/site-packages/Tea/vendored/requests/packages/urllib3/connectionpool.py\u001B[0m in \u001B[0;36murlopen\u001B[0;34m(self, method, url, body, headers, retries, redirect, assert_same_host, timeout, pool_timeout, release_conn, chunked, body_pos, **response_kw)\u001B[0m\n\u001B[1;32m    597\u001B[0m             \u001B[0;31m# Make the request on the httplib connection object.\u001B[0m\u001B[0;34m\u001B[0m\u001B[0;34m\u001B[0m\u001B[0;34m\u001B[0m\u001B[0m\n\u001B[0;32m--> 598\u001B[0;31m             httplib_response = self._make_request(conn, method, url,\n\u001B[0m\u001B[1;32m    599\u001B[0m                                                   \u001B[0mtimeout\u001B[0m\u001B[0;34m=\u001B[0m\u001B[0mtimeout_obj\u001B[0m\u001B[0;34m,\u001B[0m\u001B[0;34m\u001B[0m\u001B[0;34m\u001B[0m\u001B[0m\n",
      "\u001B[0;32m/usr/local/anaconda3/lib/python3.8/site-packages/Tea/vendored/requests/packages/urllib3/connectionpool.py\u001B[0m in \u001B[0;36m_make_request\u001B[0;34m(self, conn, method, url, timeout, chunked, **httplib_request_kw)\u001B[0m\n\u001B[1;32m    345\u001B[0m         \u001B[0;32mtry\u001B[0m\u001B[0;34m:\u001B[0m\u001B[0;34m\u001B[0m\u001B[0;34m\u001B[0m\u001B[0m\n\u001B[0;32m--> 346\u001B[0;31m             \u001B[0mself\u001B[0m\u001B[0;34m.\u001B[0m\u001B[0m_validate_conn\u001B[0m\u001B[0;34m(\u001B[0m\u001B[0mconn\u001B[0m\u001B[0;34m)\u001B[0m\u001B[0;34m\u001B[0m\u001B[0;34m\u001B[0m\u001B[0m\n\u001B[0m\u001B[1;32m    347\u001B[0m         \u001B[0;32mexcept\u001B[0m \u001B[0;34m(\u001B[0m\u001B[0mSocketTimeout\u001B[0m\u001B[0;34m,\u001B[0m \u001B[0mBaseSSLError\u001B[0m\u001B[0;34m)\u001B[0m \u001B[0;32mas\u001B[0m \u001B[0me\u001B[0m\u001B[0;34m:\u001B[0m\u001B[0;34m\u001B[0m\u001B[0;34m\u001B[0m\u001B[0m\n",
      "\u001B[0;32m/usr/local/anaconda3/lib/python3.8/site-packages/Tea/vendored/requests/packages/urllib3/connectionpool.py\u001B[0m in \u001B[0;36m_validate_conn\u001B[0;34m(self, conn)\u001B[0m\n\u001B[1;32m    849\u001B[0m         \u001B[0;32mif\u001B[0m \u001B[0;32mnot\u001B[0m \u001B[0mgetattr\u001B[0m\u001B[0;34m(\u001B[0m\u001B[0mconn\u001B[0m\u001B[0;34m,\u001B[0m \u001B[0;34m'sock'\u001B[0m\u001B[0;34m,\u001B[0m \u001B[0;32mNone\u001B[0m\u001B[0;34m)\u001B[0m\u001B[0;34m:\u001B[0m  \u001B[0;31m# AppEngine might not have  `.sock`\u001B[0m\u001B[0;34m\u001B[0m\u001B[0;34m\u001B[0m\u001B[0m\n\u001B[0;32m--> 850\u001B[0;31m             \u001B[0mconn\u001B[0m\u001B[0;34m.\u001B[0m\u001B[0mconnect\u001B[0m\u001B[0;34m(\u001B[0m\u001B[0;34m)\u001B[0m\u001B[0;34m\u001B[0m\u001B[0;34m\u001B[0m\u001B[0m\n\u001B[0m\u001B[1;32m    851\u001B[0m \u001B[0;34m\u001B[0m\u001B[0m\n",
      "\u001B[0;32m/usr/local/anaconda3/lib/python3.8/site-packages/Tea/vendored/requests/packages/urllib3/connection.py\u001B[0m in \u001B[0;36mconnect\u001B[0;34m(self)\u001B[0m\n\u001B[1;32m    283\u001B[0m         \u001B[0;31m# Add certificate verification\u001B[0m\u001B[0;34m\u001B[0m\u001B[0;34m\u001B[0m\u001B[0;34m\u001B[0m\u001B[0m\n\u001B[0;32m--> 284\u001B[0;31m         \u001B[0mconn\u001B[0m \u001B[0;34m=\u001B[0m \u001B[0mself\u001B[0m\u001B[0;34m.\u001B[0m\u001B[0m_new_conn\u001B[0m\u001B[0;34m(\u001B[0m\u001B[0;34m)\u001B[0m\u001B[0;34m\u001B[0m\u001B[0;34m\u001B[0m\u001B[0m\n\u001B[0m\u001B[1;32m    285\u001B[0m \u001B[0;34m\u001B[0m\u001B[0m\n",
      "\u001B[0;32m/usr/local/anaconda3/lib/python3.8/site-packages/Tea/vendored/requests/packages/urllib3/connection.py\u001B[0m in \u001B[0;36m_new_conn\u001B[0;34m(self)\u001B[0m\n\u001B[1;32m    143\u001B[0m         \u001B[0;32mexcept\u001B[0m \u001B[0mSocketTimeout\u001B[0m \u001B[0;32mas\u001B[0m \u001B[0me\u001B[0m\u001B[0;34m:\u001B[0m\u001B[0;34m\u001B[0m\u001B[0;34m\u001B[0m\u001B[0m\n\u001B[0;32m--> 144\u001B[0;31m             raise ConnectTimeoutError(\n\u001B[0m\u001B[1;32m    145\u001B[0m                 \u001B[0mself\u001B[0m\u001B[0;34m,\u001B[0m \u001B[0;34m\"Connection to %s timed out. (connect timeout=%s)\"\u001B[0m \u001B[0;34m%\u001B[0m\u001B[0;34m\u001B[0m\u001B[0;34m\u001B[0m\u001B[0m\n",
      "\u001B[0;31mConnectTimeoutError\u001B[0m: (<Tea.vendored.requests.packages.urllib3.connection.VerifiedHTTPSConnection object at 0x7fcebbba4df0>, 'Connection to paiflow.cn-hangzhou.aliyuncs.com timed out. (connect timeout=5.0)')",
      "\nDuring handling of the above exception, another exception occurred:\n",
      "\u001B[0;31mMaxRetryError\u001B[0m                             Traceback (most recent call last)",
      "\u001B[0;32m/usr/local/anaconda3/lib/python3.8/site-packages/Tea/vendored/requests/adapters.py\u001B[0m in \u001B[0;36msend\u001B[0;34m(self, request, stream, timeout, verify, cert, proxies)\u001B[0m\n\u001B[1;32m    438\u001B[0m             \u001B[0;32mif\u001B[0m \u001B[0;32mnot\u001B[0m \u001B[0mchunked\u001B[0m\u001B[0;34m:\u001B[0m\u001B[0;34m\u001B[0m\u001B[0;34m\u001B[0m\u001B[0m\n\u001B[0;32m--> 439\u001B[0;31m                 resp = conn.urlopen(\n\u001B[0m\u001B[1;32m    440\u001B[0m                     \u001B[0mmethod\u001B[0m\u001B[0;34m=\u001B[0m\u001B[0mrequest\u001B[0m\u001B[0;34m.\u001B[0m\u001B[0mmethod\u001B[0m\u001B[0;34m,\u001B[0m\u001B[0;34m\u001B[0m\u001B[0;34m\u001B[0m\u001B[0m\n",
      "\u001B[0;32m/usr/local/anaconda3/lib/python3.8/site-packages/Tea/vendored/requests/packages/urllib3/connectionpool.py\u001B[0m in \u001B[0;36murlopen\u001B[0;34m(self, method, url, body, headers, retries, redirect, assert_same_host, timeout, pool_timeout, release_conn, chunked, body_pos, **response_kw)\u001B[0m\n\u001B[1;32m    637\u001B[0m \u001B[0;34m\u001B[0m\u001B[0m\n\u001B[0;32m--> 638\u001B[0;31m             retries = retries.increment(method, url, error=e, _pool=self,\n\u001B[0m\u001B[1;32m    639\u001B[0m                                         _stacktrace=sys.exc_info()[2])\n",
      "\u001B[0;32m/usr/local/anaconda3/lib/python3.8/site-packages/Tea/vendored/requests/packages/urllib3/util/retry.py\u001B[0m in \u001B[0;36mincrement\u001B[0;34m(self, method, url, response, error, _pool, _stacktrace)\u001B[0m\n\u001B[1;32m    387\u001B[0m         \u001B[0;32mif\u001B[0m \u001B[0mnew_retry\u001B[0m\u001B[0;34m.\u001B[0m\u001B[0mis_exhausted\u001B[0m\u001B[0;34m(\u001B[0m\u001B[0;34m)\u001B[0m\u001B[0;34m:\u001B[0m\u001B[0;34m\u001B[0m\u001B[0;34m\u001B[0m\u001B[0m\n\u001B[0;32m--> 388\u001B[0;31m             \u001B[0;32mraise\u001B[0m \u001B[0mMaxRetryError\u001B[0m\u001B[0;34m(\u001B[0m\u001B[0m_pool\u001B[0m\u001B[0;34m,\u001B[0m \u001B[0murl\u001B[0m\u001B[0;34m,\u001B[0m \u001B[0merror\u001B[0m \u001B[0;32mor\u001B[0m \u001B[0mResponseError\u001B[0m\u001B[0;34m(\u001B[0m\u001B[0mcause\u001B[0m\u001B[0;34m)\u001B[0m\u001B[0;34m)\u001B[0m\u001B[0;34m\u001B[0m\u001B[0;34m\u001B[0m\u001B[0m\n\u001B[0m\u001B[1;32m    389\u001B[0m \u001B[0;34m\u001B[0m\u001B[0m\n",
      "\u001B[0;31mMaxRetryError\u001B[0m: HTTPSConnectionPool(host='paiflow.cn-hangzhou.aliyuncs.com', port=443): Max retries exceeded with url: /api/v1/runs/flow-ochc5mis09cs9x20fu/nodes/node-5lw2h9fcvgnsuqudvf?Depth=2 (Caused by ConnectTimeoutError(<Tea.vendored.requests.packages.urllib3.connection.VerifiedHTTPSConnection object at 0x7fcebbba4df0>, 'Connection to paiflow.cn-hangzhou.aliyuncs.com timed out. (connect timeout=5.0)'))",
      "\nDuring handling of the above exception, another exception occurred:\n",
      "\u001B[0;31mConnectTimeout\u001B[0m                            Traceback (most recent call last)",
      "\u001B[0;32m<ipython-input-22-90a4905994d7>\u001B[0m in \u001B[0;36m<module>\u001B[0;34m\u001B[0m\n\u001B[1;32m      1\u001B[0m \u001B[0;31m# 将自定义任务提交运行\u001B[0m\u001B[0;34m\u001B[0m\u001B[0;34m\u001B[0m\u001B[0;34m\u001B[0m\u001B[0m\n\u001B[0;32m----> 2\u001B[0;31m run = operator.run(\n\u001B[0m\u001B[1;32m      3\u001B[0m     \u001B[0;31m# 任务运行的名称\u001B[0m\u001B[0;34m\u001B[0m\u001B[0;34m\u001B[0m\u001B[0;34m\u001B[0m\u001B[0m\n\u001B[1;32m      4\u001B[0m     \u001B[0mjob_name\u001B[0m\u001B[0;34m=\u001B[0m\u001B[0;34m\"ExampleCustomOpRun\"\u001B[0m\u001B[0;34m,\u001B[0m\u001B[0;34m\u001B[0m\u001B[0;34m\u001B[0m\u001B[0m\n\u001B[1;32m      5\u001B[0m     \u001B[0;31m# 作业的输出路径，输出路径会被挂载到 /ml/output 目录下。\u001B[0m\u001B[0;34m\u001B[0m\u001B[0;34m\u001B[0m\u001B[0;34m\u001B[0m\u001B[0m\n",
      "\u001B[0;32m~/code/pypai/pai/operator/_custom_job.py\u001B[0m in \u001B[0;36mrun\u001B[0;34m(self, inputs, job_name, job_config, output_path, **kwargs)\u001B[0m\n\u001B[1;32m    249\u001B[0m             \u001B[0minputs\u001B[0m\u001B[0;34m=\u001B[0m\u001B[0minputs\u001B[0m\u001B[0;34m,\u001B[0m \u001B[0moutput_path\u001B[0m\u001B[0;34m=\u001B[0m\u001B[0moutput_path\u001B[0m\u001B[0;34m,\u001B[0m \u001B[0mjob_config\u001B[0m\u001B[0;34m=\u001B[0m\u001B[0mjob_config\u001B[0m\u001B[0;34m\u001B[0m\u001B[0;34m\u001B[0m\u001B[0m\n\u001B[1;32m    250\u001B[0m         )\n\u001B[0;32m--> 251\u001B[0;31m         return super(CustomJobOperator, self).run(\n\u001B[0m\u001B[1;32m    252\u001B[0m             \u001B[0mjob_name\u001B[0m\u001B[0;34m=\u001B[0m\u001B[0mjob_name\u001B[0m\u001B[0;34m,\u001B[0m \u001B[0marguments\u001B[0m\u001B[0;34m=\u001B[0m\u001B[0margs\u001B[0m\u001B[0;34m,\u001B[0m \u001B[0;34m**\u001B[0m\u001B[0mkwargs\u001B[0m\u001B[0;34m\u001B[0m\u001B[0;34m\u001B[0m\u001B[0m\n\u001B[1;32m    253\u001B[0m         )\n",
      "\u001B[0;32m~/code/pypai/pai/operator/_base.py\u001B[0m in \u001B[0;36mrun\u001B[0;34m(self, job_name, wait, arguments, show_outputs, **kwargs)\u001B[0m\n\u001B[1;32m    163\u001B[0m         \u001B[0;32mif\u001B[0m \u001B[0;32mnot\u001B[0m \u001B[0mwait\u001B[0m\u001B[0;34m:\u001B[0m\u001B[0;34m\u001B[0m\u001B[0;34m\u001B[0m\u001B[0m\n\u001B[1;32m    164\u001B[0m             \u001B[0;32mreturn\u001B[0m \u001B[0mrun_instance\u001B[0m\u001B[0;34m\u001B[0m\u001B[0;34m\u001B[0m\u001B[0m\n\u001B[0;32m--> 165\u001B[0;31m         \u001B[0mrun_instance\u001B[0m\u001B[0;34m.\u001B[0m\u001B[0mwait_for_completion\u001B[0m\u001B[0;34m(\u001B[0m\u001B[0mshow_outputs\u001B[0m\u001B[0;34m=\u001B[0m\u001B[0mshow_outputs\u001B[0m\u001B[0;34m)\u001B[0m\u001B[0;34m\u001B[0m\u001B[0;34m\u001B[0m\u001B[0m\n\u001B[0m\u001B[1;32m    166\u001B[0m         \u001B[0;32mreturn\u001B[0m \u001B[0mrun_instance\u001B[0m\u001B[0;34m\u001B[0m\u001B[0;34m\u001B[0m\u001B[0m\n\u001B[1;32m    167\u001B[0m \u001B[0;34m\u001B[0m\u001B[0m\n",
      "\u001B[0;32m~/code/pypai/pai/pipeline/run.py\u001B[0m in \u001B[0;36mwait_for_completion\u001B[0;34m(self, show_outputs, timeout)\u001B[0m\n\u001B[1;32m    287\u001B[0m                 \u001B[0;32mif\u001B[0m \u001B[0mtimeout\u001B[0m \u001B[0;32mand\u001B[0m \u001B[0;34m(\u001B[0m\u001B[0mcurr_time\u001B[0m \u001B[0;34m-\u001B[0m \u001B[0mstart_at\u001B[0m\u001B[0;34m)\u001B[0m\u001B[0;34m.\u001B[0m\u001B[0mtotal_seconds\u001B[0m\u001B[0;34m(\u001B[0m\u001B[0;34m)\u001B[0m \u001B[0;34m>\u001B[0m \u001B[0mtimeout\u001B[0m\u001B[0;34m:\u001B[0m\u001B[0;34m\u001B[0m\u001B[0;34m\u001B[0m\u001B[0m\n\u001B[1;32m    288\u001B[0m                     \u001B[0;32mraise\u001B[0m \u001B[0mTimeoutException\u001B[0m\u001B[0;34m(\u001B[0m\u001B[0;34m\"RunInstance wait_for_completion timeout.\"\u001B[0m\u001B[0;34m)\u001B[0m\u001B[0;34m\u001B[0m\u001B[0;34m\u001B[0m\u001B[0m\n\u001B[0;32m--> 289\u001B[0;31m                 \u001B[0mcurr_status_infos\u001B[0m \u001B[0;34m=\u001B[0m \u001B[0mself\u001B[0m\u001B[0;34m.\u001B[0m\u001B[0mtravel_node_status_info\u001B[0m\u001B[0;34m(\u001B[0m\u001B[0mnode_id\u001B[0m\u001B[0;34m)\u001B[0m\u001B[0;34m\u001B[0m\u001B[0;34m\u001B[0m\u001B[0m\n\u001B[0m\u001B[1;32m    290\u001B[0m                 \u001B[0;32mfor\u001B[0m \u001B[0mnode_fullname\u001B[0m\u001B[0;34m,\u001B[0m \u001B[0mstatus_info\u001B[0m \u001B[0;32min\u001B[0m \u001B[0mcurr_status_infos\u001B[0m\u001B[0;34m.\u001B[0m\u001B[0mitems\u001B[0m\u001B[0;34m(\u001B[0m\u001B[0;34m)\u001B[0m\u001B[0;34m:\u001B[0m\u001B[0;34m\u001B[0m\u001B[0;34m\u001B[0m\u001B[0m\n\u001B[1;32m    291\u001B[0m                     if (\n",
      "\u001B[0;32m~/code/pypai/pai/pipeline/run.py\u001B[0m in \u001B[0;36mtravel_node_status_info\u001B[0;34m(self, node_id, max_depth)\u001B[0m\n\u001B[1;32m    163\u001B[0m                     \u001B[0mpipelines_travel\u001B[0m\u001B[0;34m(\u001B[0m\u001B[0mnext_node_id\u001B[0m\u001B[0;34m,\u001B[0m \u001B[0mcurr_root_name\u001B[0m\u001B[0;34m,\u001B[0m \u001B[0mcur_depth\u001B[0m \u001B[0;34m+\u001B[0m \u001B[0;36m1\u001B[0m\u001B[0;34m)\u001B[0m\u001B[0;34m\u001B[0m\u001B[0;34m\u001B[0m\u001B[0m\n\u001B[1;32m    164\u001B[0m \u001B[0;34m\u001B[0m\u001B[0m\n\u001B[0;32m--> 165\u001B[0;31m         \u001B[0mpipelines_travel\u001B[0m\u001B[0;34m(\u001B[0m\u001B[0mcurr_node_id\u001B[0m\u001B[0;34m=\u001B[0m\u001B[0mnode_id\u001B[0m\u001B[0;34m)\u001B[0m\u001B[0;34m\u001B[0m\u001B[0;34m\u001B[0m\u001B[0m\n\u001B[0m\u001B[1;32m    166\u001B[0m         \u001B[0;32mreturn\u001B[0m \u001B[0mnode_status_info\u001B[0m\u001B[0;34m\u001B[0m\u001B[0;34m\u001B[0m\u001B[0m\n\u001B[1;32m    167\u001B[0m \u001B[0;34m\u001B[0m\u001B[0m\n",
      "\u001B[0;32m~/code/pypai/pai/pipeline/run.py\u001B[0m in \u001B[0;36mpipelines_travel\u001B[0;34m(curr_node_id, parent, cur_depth)\u001B[0m\n\u001B[1;32m    130\u001B[0m             \u001B[0;32mif\u001B[0m \u001B[0mcur_depth\u001B[0m \u001B[0;34m>\u001B[0m \u001B[0mmax_depth\u001B[0m\u001B[0;34m:\u001B[0m\u001B[0;34m\u001B[0m\u001B[0;34m\u001B[0m\u001B[0m\n\u001B[1;32m    131\u001B[0m                 \u001B[0;32mreturn\u001B[0m\u001B[0;34m\u001B[0m\u001B[0;34m\u001B[0m\u001B[0m\n\u001B[0;32m--> 132\u001B[0;31m             run_node_detail_info = self._get_service_client().get_node(\n\u001B[0m\u001B[1;32m    133\u001B[0m                 \u001B[0mself\u001B[0m\u001B[0;34m.\u001B[0m\u001B[0mrun_id\u001B[0m\u001B[0;34m,\u001B[0m\u001B[0;34m\u001B[0m\u001B[0;34m\u001B[0m\u001B[0m\n\u001B[1;32m    134\u001B[0m                 \u001B[0mcurr_node_id\u001B[0m\u001B[0;34m,\u001B[0m\u001B[0;34m\u001B[0m\u001B[0;34m\u001B[0m\u001B[0m\n",
      "\u001B[0;32m~/code/pypai/pai/api/paiflow.py\u001B[0m in \u001B[0;36mget_node\u001B[0;34m(self, run_id, node_id, depth)\u001B[0m\n\u001B[1;32m    280\u001B[0m     \u001B[0;32mdef\u001B[0m \u001B[0mget_node\u001B[0m\u001B[0;34m(\u001B[0m\u001B[0mself\u001B[0m\u001B[0;34m,\u001B[0m \u001B[0mrun_id\u001B[0m\u001B[0;34m,\u001B[0m \u001B[0mnode_id\u001B[0m\u001B[0;34m,\u001B[0m \u001B[0mdepth\u001B[0m\u001B[0;34m=\u001B[0m\u001B[0;36m2\u001B[0m\u001B[0;34m)\u001B[0m\u001B[0;34m:\u001B[0m\u001B[0;34m\u001B[0m\u001B[0;34m\u001B[0m\u001B[0m\n\u001B[1;32m    281\u001B[0m         \u001B[0mrequest\u001B[0m \u001B[0;34m=\u001B[0m \u001B[0mGetNodeRequest\u001B[0m\u001B[0;34m(\u001B[0m\u001B[0mdepth\u001B[0m\u001B[0;34m=\u001B[0m\u001B[0mdepth\u001B[0m\u001B[0;34m)\u001B[0m\u001B[0;34m\u001B[0m\u001B[0;34m\u001B[0m\u001B[0m\n\u001B[0;32m--> 282\u001B[0;31m         resp = self._call_service_with_exception(\n\u001B[0m\u001B[1;32m    283\u001B[0m             \u001B[0mself\u001B[0m\u001B[0;34m.\u001B[0m\u001B[0mbase_client\u001B[0m\u001B[0;34m.\u001B[0m\u001B[0mget_node_with_options\u001B[0m\u001B[0;34m,\u001B[0m\u001B[0;34m\u001B[0m\u001B[0;34m\u001B[0m\u001B[0m\n\u001B[1;32m    284\u001B[0m             \u001B[0mrun_id\u001B[0m\u001B[0;34m=\u001B[0m\u001B[0mrun_id\u001B[0m\u001B[0;34m,\u001B[0m\u001B[0;34m\u001B[0m\u001B[0;34m\u001B[0m\u001B[0m\n",
      "\u001B[0;32m~/code/pypai/pai/api/base.py\u001B[0m in \u001B[0;36m_call_service_with_exception\u001B[0;34m(self, client_method, **kwargs)\u001B[0m\n\u001B[1;32m    177\u001B[0m \u001B[0;34m\u001B[0m\u001B[0m\n\u001B[1;32m    178\u001B[0m         \u001B[0;32mtry\u001B[0m\u001B[0;34m:\u001B[0m\u001B[0;34m\u001B[0m\u001B[0;34m\u001B[0m\u001B[0m\n\u001B[0;32m--> 179\u001B[0;31m             \u001B[0mresp\u001B[0m \u001B[0;34m=\u001B[0m \u001B[0mclient_method\u001B[0m\u001B[0;34m(\u001B[0m\u001B[0;34m**\u001B[0m\u001B[0mkwargs\u001B[0m\u001B[0;34m)\u001B[0m\u001B[0;34m\u001B[0m\u001B[0;34m\u001B[0m\u001B[0m\n\u001B[0m\u001B[1;32m    180\u001B[0m         \u001B[0;32mexcept\u001B[0m \u001B[0mTeaException\u001B[0m \u001B[0;32mas\u001B[0m \u001B[0me\u001B[0m\u001B[0;34m:\u001B[0m\u001B[0;34m\u001B[0m\u001B[0;34m\u001B[0m\u001B[0m\n\u001B[1;32m    181\u001B[0m             \u001B[0;32mraise\u001B[0m \u001B[0mServiceCallException\u001B[0m\u001B[0;34m(\u001B[0m\u001B[0me\u001B[0m\u001B[0;34m.\u001B[0m\u001B[0m__str__\u001B[0m\u001B[0;34m(\u001B[0m\u001B[0;34m)\u001B[0m\u001B[0;34m)\u001B[0m\u001B[0;34m\u001B[0m\u001B[0;34m\u001B[0m\u001B[0m\n",
      "\u001B[0;32m~/code/pypai/pai/libs/alibabacloud_paiflow20210202/client.py\u001B[0m in \u001B[0;36mget_node_with_options\u001B[0;34m(self, run_id, node_id, request, headers, runtime)\u001B[0m\n\u001B[1;32m    157\u001B[0m         )\n\u001B[1;32m    158\u001B[0m         return paiflow_20210202_models.GetNodeResponse().from_map(\n\u001B[0;32m--> 159\u001B[0;31m             \u001B[0mself\u001B[0m\u001B[0;34m.\u001B[0m\u001B[0mdo_roarequest\u001B[0m\u001B[0;34m(\u001B[0m\u001B[0;34m'GetNode'\u001B[0m\u001B[0;34m,\u001B[0m \u001B[0;34m'2021-02-02'\u001B[0m\u001B[0;34m,\u001B[0m \u001B[0;34m'HTTPS'\u001B[0m\u001B[0;34m,\u001B[0m \u001B[0;34m'GET'\u001B[0m\u001B[0;34m,\u001B[0m \u001B[0;34m'AK'\u001B[0m\u001B[0;34m,\u001B[0m \u001B[0;34m'/api/v1/runs/%s/nodes/%s'\u001B[0m \u001B[0;34m%\u001B[0m \u001B[0;34m(\u001B[0m\u001B[0mTeaConverter\u001B[0m\u001B[0;34m.\u001B[0m\u001B[0mto_unicode\u001B[0m\u001B[0;34m(\u001B[0m\u001B[0mrun_id\u001B[0m\u001B[0;34m)\u001B[0m\u001B[0;34m,\u001B[0m \u001B[0mTeaConverter\u001B[0m\u001B[0;34m.\u001B[0m\u001B[0mto_unicode\u001B[0m\u001B[0;34m(\u001B[0m\u001B[0mnode_id\u001B[0m\u001B[0;34m)\u001B[0m\u001B[0;34m)\u001B[0m\u001B[0;34m,\u001B[0m \u001B[0;34m'json'\u001B[0m\u001B[0;34m,\u001B[0m \u001B[0mreq\u001B[0m\u001B[0;34m,\u001B[0m \u001B[0mruntime\u001B[0m\u001B[0;34m)\u001B[0m\u001B[0;34m\u001B[0m\u001B[0;34m\u001B[0m\u001B[0m\n\u001B[0m\u001B[1;32m    160\u001B[0m         )\n\u001B[1;32m    161\u001B[0m \u001B[0;34m\u001B[0m\u001B[0m\n",
      "\u001B[0;32m/usr/local/anaconda3/lib/python3.8/site-packages/alibabacloud_tea_openapi/client.py\u001B[0m in \u001B[0;36mdo_roarequest\u001B[0;34m(self, action, version, protocol, method, auth_type, pathname, body_type, request, runtime)\u001B[0m\n\u001B[1;32m    549\u001B[0m                     \u001B[0m_last_exception\u001B[0m \u001B[0;34m=\u001B[0m \u001B[0me\u001B[0m\u001B[0;34m\u001B[0m\u001B[0;34m\u001B[0m\u001B[0m\n\u001B[1;32m    550\u001B[0m                     \u001B[0;32mcontinue\u001B[0m\u001B[0;34m\u001B[0m\u001B[0;34m\u001B[0m\u001B[0m\n\u001B[0;32m--> 551\u001B[0;31m                 \u001B[0;32mraise\u001B[0m \u001B[0me\u001B[0m\u001B[0;34m\u001B[0m\u001B[0;34m\u001B[0m\u001B[0m\n\u001B[0m\u001B[1;32m    552\u001B[0m         \u001B[0;32mraise\u001B[0m \u001B[0mUnretryableException\u001B[0m\u001B[0;34m(\u001B[0m\u001B[0m_last_request\u001B[0m\u001B[0;34m,\u001B[0m \u001B[0m_last_exception\u001B[0m\u001B[0;34m)\u001B[0m\u001B[0;34m\u001B[0m\u001B[0;34m\u001B[0m\u001B[0m\n\u001B[1;32m    553\u001B[0m \u001B[0;34m\u001B[0m\u001B[0m\n",
      "\u001B[0;32m/usr/local/anaconda3/lib/python3.8/site-packages/alibabacloud_tea_openapi/client.py\u001B[0m in \u001B[0;36mdo_roarequest\u001B[0;34m(self, action, version, protocol, method, auth_type, pathname, body_type, request, runtime)\u001B[0m\n\u001B[1;32m    495\u001B[0m                     \u001B[0m_request\u001B[0m\u001B[0;34m.\u001B[0m\u001B[0mheaders\u001B[0m\u001B[0;34m[\u001B[0m\u001B[0;34m'authorization'\u001B[0m\u001B[0;34m]\u001B[0m \u001B[0;34m=\u001B[0m \u001B[0;34mf'acs {access_key_id}:{OpenApiUtilClient.get_roasignature(string_to_sign, access_key_secret)}'\u001B[0m\u001B[0;34m\u001B[0m\u001B[0;34m\u001B[0m\u001B[0m\n\u001B[1;32m    496\u001B[0m                 \u001B[0m_last_request\u001B[0m \u001B[0;34m=\u001B[0m \u001B[0m_request\u001B[0m\u001B[0;34m\u001B[0m\u001B[0;34m\u001B[0m\u001B[0m\n\u001B[0;32m--> 497\u001B[0;31m                 \u001B[0m_response\u001B[0m \u001B[0;34m=\u001B[0m \u001B[0mTeaCore\u001B[0m\u001B[0;34m.\u001B[0m\u001B[0mdo_action\u001B[0m\u001B[0;34m(\u001B[0m\u001B[0m_request\u001B[0m\u001B[0;34m,\u001B[0m \u001B[0m_runtime\u001B[0m\u001B[0;34m)\u001B[0m\u001B[0;34m\u001B[0m\u001B[0;34m\u001B[0m\u001B[0m\n\u001B[0m\u001B[1;32m    498\u001B[0m                 \u001B[0;32mif\u001B[0m \u001B[0mUtilClient\u001B[0m\u001B[0;34m.\u001B[0m\u001B[0mequal_number\u001B[0m\u001B[0;34m(\u001B[0m\u001B[0m_response\u001B[0m\u001B[0;34m.\u001B[0m\u001B[0mstatus_code\u001B[0m\u001B[0;34m,\u001B[0m \u001B[0;36m204\u001B[0m\u001B[0;34m)\u001B[0m\u001B[0;34m:\u001B[0m\u001B[0;34m\u001B[0m\u001B[0;34m\u001B[0m\u001B[0m\n\u001B[1;32m    499\u001B[0m                     return {\n",
      "\u001B[0;32m/usr/local/anaconda3/lib/python3.8/site-packages/Tea/core.py\u001B[0m in \u001B[0;36mdo_action\u001B[0;34m(request, runtime_option)\u001B[0m\n\u001B[1;32m    123\u001B[0m                 \u001B[0mproxies\u001B[0m\u001B[0;34m[\u001B[0m\u001B[0;34m'no_proxy'\u001B[0m\u001B[0;34m]\u001B[0m \u001B[0;34m=\u001B[0m \u001B[0mno_proxy\u001B[0m\u001B[0;34m\u001B[0m\u001B[0;34m\u001B[0m\u001B[0m\n\u001B[1;32m    124\u001B[0m \u001B[0;34m\u001B[0m\u001B[0m\n\u001B[0;32m--> 125\u001B[0;31m             resp = s.send(\n\u001B[0m\u001B[1;32m    126\u001B[0m                 \u001B[0mprepped\u001B[0m\u001B[0;34m,\u001B[0m\u001B[0;34m\u001B[0m\u001B[0;34m\u001B[0m\u001B[0m\n\u001B[1;32m    127\u001B[0m                 \u001B[0mproxies\u001B[0m\u001B[0;34m=\u001B[0m\u001B[0mproxies\u001B[0m\u001B[0;34m,\u001B[0m\u001B[0;34m\u001B[0m\u001B[0;34m\u001B[0m\u001B[0m\n",
      "\u001B[0;32m/usr/local/anaconda3/lib/python3.8/site-packages/Tea/vendored/requests/sessions.py\u001B[0m in \u001B[0;36msend\u001B[0;34m(self, request, **kwargs)\u001B[0m\n\u001B[1;32m    641\u001B[0m \u001B[0;34m\u001B[0m\u001B[0m\n\u001B[1;32m    642\u001B[0m         \u001B[0;31m# Send the request\u001B[0m\u001B[0;34m\u001B[0m\u001B[0;34m\u001B[0m\u001B[0;34m\u001B[0m\u001B[0m\n\u001B[0;32m--> 643\u001B[0;31m         \u001B[0mr\u001B[0m \u001B[0;34m=\u001B[0m \u001B[0madapter\u001B[0m\u001B[0;34m.\u001B[0m\u001B[0msend\u001B[0m\u001B[0;34m(\u001B[0m\u001B[0mrequest\u001B[0m\u001B[0;34m,\u001B[0m \u001B[0;34m**\u001B[0m\u001B[0mkwargs\u001B[0m\u001B[0;34m)\u001B[0m\u001B[0;34m\u001B[0m\u001B[0;34m\u001B[0m\u001B[0m\n\u001B[0m\u001B[1;32m    644\u001B[0m \u001B[0;34m\u001B[0m\u001B[0m\n\u001B[1;32m    645\u001B[0m         \u001B[0;31m# Total elapsed time of the request (approximately)\u001B[0m\u001B[0;34m\u001B[0m\u001B[0;34m\u001B[0m\u001B[0;34m\u001B[0m\u001B[0m\n",
      "\u001B[0;32m/usr/local/anaconda3/lib/python3.8/site-packages/Tea/vendored/requests/adapters.py\u001B[0m in \u001B[0;36msend\u001B[0;34m(self, request, stream, timeout, verify, cert, proxies)\u001B[0m\n\u001B[1;32m    502\u001B[0m                 \u001B[0;31m# TODO: Remove this in 3.0.0: see #2811\u001B[0m\u001B[0;34m\u001B[0m\u001B[0;34m\u001B[0m\u001B[0;34m\u001B[0m\u001B[0m\n\u001B[1;32m    503\u001B[0m                 \u001B[0;32mif\u001B[0m \u001B[0;32mnot\u001B[0m \u001B[0misinstance\u001B[0m\u001B[0;34m(\u001B[0m\u001B[0me\u001B[0m\u001B[0;34m.\u001B[0m\u001B[0mreason\u001B[0m\u001B[0;34m,\u001B[0m \u001B[0mNewConnectionError\u001B[0m\u001B[0;34m)\u001B[0m\u001B[0;34m:\u001B[0m\u001B[0;34m\u001B[0m\u001B[0;34m\u001B[0m\u001B[0m\n\u001B[0;32m--> 504\u001B[0;31m                     \u001B[0;32mraise\u001B[0m \u001B[0mConnectTimeout\u001B[0m\u001B[0;34m(\u001B[0m\u001B[0me\u001B[0m\u001B[0;34m,\u001B[0m \u001B[0mrequest\u001B[0m\u001B[0;34m=\u001B[0m\u001B[0mrequest\u001B[0m\u001B[0;34m)\u001B[0m\u001B[0;34m\u001B[0m\u001B[0;34m\u001B[0m\u001B[0m\n\u001B[0m\u001B[1;32m    505\u001B[0m \u001B[0;34m\u001B[0m\u001B[0m\n\u001B[1;32m    506\u001B[0m             \u001B[0;32mif\u001B[0m \u001B[0misinstance\u001B[0m\u001B[0;34m(\u001B[0m\u001B[0me\u001B[0m\u001B[0;34m.\u001B[0m\u001B[0mreason\u001B[0m\u001B[0;34m,\u001B[0m \u001B[0mResponseError\u001B[0m\u001B[0;34m)\u001B[0m\u001B[0;34m:\u001B[0m\u001B[0;34m\u001B[0m\u001B[0;34m\u001B[0m\u001B[0m\n",
      "\u001B[0;31mConnectTimeout\u001B[0m: HTTPSConnectionPool(host='paiflow.cn-hangzhou.aliyuncs.com', port=443): Max retries exceeded with url: /api/v1/runs/flow-ochc5mis09cs9x20fu/nodes/node-5lw2h9fcvgnsuqudvf?Depth=2 (Caused by ConnectTimeoutError(<Tea.vendored.requests.packages.urllib3.connection.VerifiedHTTPSConnection object at 0x7fcebbba4df0>, 'Connection to paiflow.cn-hangzhou.aliyuncs.com timed out. (connect timeout=5.0)'))"
     ]
    }
   ],
   "source": [
    "# 将自定义任务提交运行\n",
    "run = operator.run(\n",
    "    # 任务运行的名称\n",
    "    job_name=\"ExampleCustomOpRun\",\n",
    "    # 作业的输出路径，输出路径会被挂载到 /ml/output 目录下。\n",
    "    output_path=output_path_uri,\n",
    "    # 作业的执行配置: 使用的worker的数量，实例类型\n",
    "    # 支持的实例类型，以及计费说明参加文档：https://help.aliyun.com/document_detail/171758.html\n",
    "    job_config=JobConfig.create(worker_count=1, worker_instance_type=\"ecs.c6.large\"),\n",
    "    # 组件的输入\n",
    "    inputs={\n",
    "        \"train\": train_data_uri,\n",
    "        \"test\": test_data_uri,\n",
    "        \"n_estimator\": 200,\n",
    "    },\n",
    ")"
   ],
   "metadata": {
    "collapsed": false,
    "pycharm": {
     "name": "#%%\n"
    }
   }
  },
  {
   "cell_type": "code",
   "execution_count": 26,
   "outputs": [
    {
     "name": "stdout",
     "output_type": "stream",
     "text": [
      "Create pipeline run success (run_id: flow-qupkxac7z19zgi8cbl), please visit the link below to view the run detail.\n",
      "https://pai.console.aliyun.com/console?regionId=cn-hangzhou#/studio/task/detail/flow-qupkxac7z19zgi8cbl\n",
      "Wait for run workflow init\n",
      "Add Node Logger: ExamplePipeline, node-2cxds2snn2dzpxghnm\n",
      "Add Node Logger: ExamplePipeline.TrainStep1, node-q63p2u1yp5ntrtjgbo\n",
      "Add Node Logger: ExamplePipeline.TrainStep2, node-efijizq97iqf8s6pgj\n"
     ]
    },
    {
     "ename": "KeyboardInterrupt",
     "evalue": "",
     "output_type": "error",
     "traceback": [
      "\u001B[0;31m---------------------------------------------------------------------------\u001B[0m",
      "\u001B[0;31mKeyboardInterrupt\u001B[0m                         Traceback (most recent call last)",
      "\u001B[0;32m<ipython-input-26-c2d814396a7a>\u001B[0m in \u001B[0;36m<module>\u001B[0;34m\u001B[0m\n\u001B[1;32m     34\u001B[0m \u001B[0mp\u001B[0m \u001B[0;34m=\u001B[0m \u001B[0mPipeline\u001B[0m\u001B[0;34m(\u001B[0m\u001B[0msteps\u001B[0m\u001B[0;34m=\u001B[0m\u001B[0;34m[\u001B[0m\u001B[0mstep_train_2\u001B[0m\u001B[0;34m,\u001B[0m \u001B[0mstep_train_1\u001B[0m\u001B[0;34m]\u001B[0m\u001B[0;34m)\u001B[0m\u001B[0;34m\u001B[0m\u001B[0;34m\u001B[0m\u001B[0m\n\u001B[1;32m     35\u001B[0m \u001B[0;34m\u001B[0m\u001B[0m\n\u001B[0;32m---> 36\u001B[0;31m \u001B[0mrun\u001B[0m \u001B[0;34m=\u001B[0m \u001B[0mp\u001B[0m\u001B[0;34m.\u001B[0m\u001B[0mrun\u001B[0m\u001B[0;34m(\u001B[0m\u001B[0;34m\"ExamplePipeline\"\u001B[0m\u001B[0;34m)\u001B[0m\u001B[0;34m\u001B[0m\u001B[0;34m\u001B[0m\u001B[0m\n\u001B[0m\u001B[1;32m     37\u001B[0m \u001B[0;34m\u001B[0m\u001B[0m\n",
      "\u001B[0;32m~/code/pypai/pai/operator/_base.py\u001B[0m in \u001B[0;36mrun\u001B[0;34m(self, job_name, wait, arguments, show_outputs, **kwargs)\u001B[0m\n\u001B[1;32m    163\u001B[0m         \u001B[0;32mif\u001B[0m \u001B[0;32mnot\u001B[0m \u001B[0mwait\u001B[0m\u001B[0;34m:\u001B[0m\u001B[0;34m\u001B[0m\u001B[0;34m\u001B[0m\u001B[0m\n\u001B[1;32m    164\u001B[0m             \u001B[0;32mreturn\u001B[0m \u001B[0mrun_instance\u001B[0m\u001B[0;34m\u001B[0m\u001B[0;34m\u001B[0m\u001B[0m\n\u001B[0;32m--> 165\u001B[0;31m         \u001B[0mrun_instance\u001B[0m\u001B[0;34m.\u001B[0m\u001B[0mwait_for_completion\u001B[0m\u001B[0;34m(\u001B[0m\u001B[0mshow_outputs\u001B[0m\u001B[0;34m=\u001B[0m\u001B[0mshow_outputs\u001B[0m\u001B[0;34m)\u001B[0m\u001B[0;34m\u001B[0m\u001B[0;34m\u001B[0m\u001B[0m\n\u001B[0m\u001B[1;32m    166\u001B[0m         \u001B[0;32mreturn\u001B[0m \u001B[0mrun_instance\u001B[0m\u001B[0;34m\u001B[0m\u001B[0;34m\u001B[0m\u001B[0m\n\u001B[1;32m    167\u001B[0m \u001B[0;34m\u001B[0m\u001B[0m\n",
      "\u001B[0;32m~/code/pypai/pai/pipeline/run.py\u001B[0m in \u001B[0;36mwait_for_completion\u001B[0;34m(self, show_outputs, timeout)\u001B[0m\n\u001B[1;32m    327\u001B[0m             \u001B[0mlogger\u001B[0m\u001B[0;34m.\u001B[0m\u001B[0mdebug\u001B[0m\u001B[0;34m(\u001B[0m\u001B[0;34m\"catch expections, %s\"\u001B[0m\u001B[0;34m,\u001B[0m \u001B[0me\u001B[0m\u001B[0;34m)\u001B[0m\u001B[0;34m\u001B[0m\u001B[0;34m\u001B[0m\u001B[0m\n\u001B[1;32m    328\u001B[0m             \u001B[0mrun_logger\u001B[0m\u001B[0;34m.\u001B[0m\u001B[0mstop_tail\u001B[0m\u001B[0;34m(\u001B[0m\u001B[0;34m)\u001B[0m\u001B[0;34m\u001B[0m\u001B[0;34m\u001B[0m\u001B[0m\n\u001B[0;32m--> 329\u001B[0;31m             \u001B[0;32mraise\u001B[0m \u001B[0me\u001B[0m\u001B[0;34m\u001B[0m\u001B[0;34m\u001B[0m\u001B[0m\n\u001B[0m\u001B[1;32m    330\u001B[0m \u001B[0;34m\u001B[0m\u001B[0m\n\u001B[1;32m    331\u001B[0m         \u001B[0;32mfor\u001B[0m \u001B[0mlog_runner\u001B[0m \u001B[0;32min\u001B[0m \u001B[0mlog_runners\u001B[0m\u001B[0;34m:\u001B[0m\u001B[0;34m\u001B[0m\u001B[0;34m\u001B[0m\u001B[0m\n",
      "\u001B[0;32m~/code/pypai/pai/pipeline/run.py\u001B[0m in \u001B[0;36mwait_for_completion\u001B[0;34m(self, show_outputs, timeout)\u001B[0m\n\u001B[1;32m    323\u001B[0m                     )\n\u001B[1;32m    324\u001B[0m \u001B[0;34m\u001B[0m\u001B[0m\n\u001B[0;32m--> 325\u001B[0;31m                 \u001B[0mtime\u001B[0m\u001B[0;34m.\u001B[0m\u001B[0msleep\u001B[0m\u001B[0;34m(\u001B[0m\u001B[0;36m2\u001B[0m\u001B[0;34m)\u001B[0m\u001B[0;34m\u001B[0m\u001B[0;34m\u001B[0m\u001B[0m\n\u001B[0m\u001B[1;32m    326\u001B[0m         \u001B[0;32mexcept\u001B[0m \u001B[0;34m(\u001B[0m\u001B[0mKeyboardInterrupt\u001B[0m\u001B[0;34m,\u001B[0m \u001B[0mPAIException\u001B[0m\u001B[0;34m)\u001B[0m \u001B[0;32mas\u001B[0m \u001B[0me\u001B[0m\u001B[0;34m:\u001B[0m\u001B[0;34m\u001B[0m\u001B[0;34m\u001B[0m\u001B[0m\n\u001B[1;32m    327\u001B[0m             \u001B[0mlogger\u001B[0m\u001B[0;34m.\u001B[0m\u001B[0mdebug\u001B[0m\u001B[0;34m(\u001B[0m\u001B[0;34m\"catch expections, %s\"\u001B[0m\u001B[0;34m,\u001B[0m \u001B[0me\u001B[0m\u001B[0;34m)\u001B[0m\u001B[0;34m\u001B[0m\u001B[0;34m\u001B[0m\u001B[0m\n",
      "\u001B[0;31mKeyboardInterrupt\u001B[0m: "
     ]
    }
   ],
   "source": [
    "from pai.pipeline import Pipeline\n",
    "\n",
    "step_train_1 = operator.as_step(\n",
    "    name=\"TrainStep1\",\n",
    "    inputs={\n",
    "        \"job_config\": JobConfig.create(\n",
    "            worker_count=1, worker_instance_type=\"ecs.c6.large\"\n",
    "        ).to_dict(),\n",
    "        \"output_path\": output_path_uri + \"train_step_output/\",\n",
    "        \"train\": train_data_uri,\n",
    "        \"test\": test_data_uri,\n",
    "        \"n_estimator\": 2000,\n",
    "        \"criteria\": \"entropy\",\n",
    "        \"max_depth\": 20,\n",
    "    },\n",
    ")\n",
    "\n",
    "step_train_2 = operator.as_step(\n",
    "    name=\"TrainStep2\",\n",
    "    inputs={\n",
    "        \"job_config\": JobConfig.create(\n",
    "            worker_count=1, worker_instance_type=\"ecs.c6.large\"\n",
    "        ).to_dict(),\n",
    "        \"output_path\": output_path_uri + \"train_step_output/\",\n",
    "        \"train\": test_data_uri,\n",
    "        \"n_estimator\": 100,\n",
    "        \"criteria\": \"gini\",\n",
    "        \"max_depth\": 200,\n",
    "    },\n",
    ")\n",
    "\n",
    "step_train_2.after(step_train_1)\n",
    "\n",
    "p = Pipeline(steps=[step_train_2, step_train_1])\n",
    "\n",
    "run = p.run(\"ExamplePipeline\")"
   ],
   "metadata": {
    "collapsed": false,
    "pycharm": {
     "name": "#%%\n"
    }
   }
  }
 ],
 "metadata": {
  "kernelspec": {
   "display_name": "Python 3",
   "language": "python",
   "name": "python3"
  },
  "language_info": {
   "codemirror_mode": {
    "name": "ipython",
    "version": 2
   },
   "file_extension": ".py",
   "mimetype": "text/x-python",
   "name": "python",
   "nbconvert_exporter": "python",
   "pygments_lexer": "ipython2",
   "version": "2.7.6"
  }
 },
 "nbformat": 4,
 "nbformat_minor": 0
}