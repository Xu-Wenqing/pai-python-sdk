{
 "cells": [
  {
   "cell_type": "code",
   "execution_count": 12,
   "metadata": {
    "collapsed": true
   },
   "outputs": [],
   "source": [
    "import os\n",
    "\n",
    "from pai.common import ProviderAlibabaPAI\n",
    "from pai.core import setup_default_session\n",
    "from pai.pipeline.template import PipelineTemplate"
   ]
  },
  {
   "cell_type": "code",
   "execution_count": 13,
   "outputs": [],
   "source": [
    "# 设置当前的PAIFlow/AIWorkspace的Endpoint\n",
    "# 预发环境需要使用Env设定访问的服务Endpoint, 因而需要手动设定\n",
    "# 同时需要修改对应的hosts\n",
    "\n",
    "# 100.67.64.48 paiflow-share.cn-hangzhou.aliyuncs.com\n",
    "# 100.67.64.48 aiworkspace-share.cn-hangzhou.aliyuncs.com\n",
    "\n",
    "# PAIFlow服务的Endpoint\n",
    "os.environ[\"ALIPAI_PAIFLOW_ENDPOINT\"] = \"paiflow-share.cn-hangzhou.aliyuncs.com\"\n",
    "\n",
    "# AIWorkspace服务的Endpoint\n",
    "os.environ[\"ALIPAI_WORKSPACE_ENDPOINT\"] = \"aiworkspace-share.cn-hangzhou.aliyuncs.com\"\n"
   ],
   "metadata": {
    "collapsed": false,
    "pycharm": {
     "name": "#%%\n"
    }
   }
  },
  {
   "cell_type": "code",
   "execution_count": 14,
   "outputs": [],
   "source": [
    "access_key_id = \"AccessKeyId\"\n",
    "access_key_secret = \"3AccessKeySecret\"\n",
    "region_id = \"cn-shanghai\"\n",
    "workspace_name = 'hello_world_v3'"
   ],
   "metadata": {
    "collapsed": false,
    "pycharm": {
     "name": "#%%\n"
    }
   }
  },
  {
   "cell_type": "markdown",
   "source": [
    "初始化默认Session"
   ],
   "metadata": {
    "collapsed": false,
    "pycharm": {
     "name": "#%% md\n"
    }
   }
  },
  {
   "cell_type": "code",
   "execution_count": 15,
   "outputs": [],
   "source": [
    "session = setup_default_session(access_key_id=access_key_id,\n",
    "                                access_key_secret=access_key_secret,\n",
    "                                region_id=region_id,\n",
    "                                workspace_name=\"test_workspace_9917967\",\n",
    "                                create_workspace=True)"
   ],
   "metadata": {
    "collapsed": false,
    "pycharm": {
     "name": "#%%\n"
    }
   }
  },
  {
   "cell_type": "code",
   "execution_count": 16,
   "outputs": [],
   "source": [
    "# List Pipeline\n",
    "# session.provider 表示当前的access_key对应的账号的provider信息\n",
    "# workspace参数指定获取对应的Workspace下的参数\n",
    "\n",
    "for templ in PipelineTemplate.list(provider=session.provider, workspace=session.workspace):\n",
    "    print(templ)\n",
    "\n",
    "templ = PipelineTemplate.get_by_identifier(\"dataSource-xflow-maxCompute\", provider=ProviderAlibabaPAI, version=\"v1\")\n",
    "templ.inputs\n",
    "\n",
    "table_name = \"sample\"\n",
    "xflow_execution = {\n",
    "    \"odpsInfoFile\": \"/share/base/odpsInfo.ini\",\n",
    "    \"endpoint\": \"http://service.cn-shanghai.maxcompute.aliyun.com/api\",\n",
    "    \"logViewHost\": \"http://logview.odps.aliyun.com\",\n",
    "    \"odpsProject\": \"pai_sdk_test\",\n",
    "}"
   ],
   "metadata": {
    "collapsed": false,
    "pycharm": {
     "name": "#%%\n"
    }
   }
  },
  {
   "cell_type": "code",
   "execution_count": null,
   "outputs": [
    {
     "name": "stdout",
     "output_type": "stream",
     "text": [
      "Create pipeline run success (run_id: flow-wyida0gjkektuwmxhk), please visit the link below to view the run detail.\n",
      "https://pai.data.aliyun.com/console?regionId=cn-shanghai#/studio2/task/detail/flow-wyida0gjkektuwmxhk\n",
      "Wait for run workflow init\n"
     ]
    }
   ],
   "source": [
    "\n",
    "# Run Pipeline\n",
    "run = templ.run(\n",
    "    job_name=\"test-datasource\",\n",
    "    arguments={\n",
    "        \"tableName\": table_name,\n",
    "        \"execution\": xflow_execution,\n",
    "    },\n",
    "    wait=True\n",
    ")\n",
    "\n",
    "\n",
    "# List Run Outputs\n",
    "outputs = run.get_outputs()"
   ],
   "metadata": {
    "collapsed": false,
    "pycharm": {
     "name": "#%%\n",
     "is_executing": true
    }
   }
  },
  {
   "cell_type": "code",
   "execution_count": null,
   "outputs": [],
   "source": [
    "\n"
   ],
   "metadata": {
    "collapsed": false,
    "pycharm": {
     "name": "#%%\n",
     "is_executing": true
    }
   }
  }
 ],
 "metadata": {
  "kernelspec": {
   "name": "pycharm-cbc784f4",
   "language": "python",
   "display_name": "PyCharm (pypai)"
  },
  "language_info": {
   "codemirror_mode": {
    "name": "ipython",
    "version": 2
   },
   "file_extension": ".py",
   "mimetype": "text/x-python",
   "name": "python",
   "nbconvert_exporter": "python",
   "pygments_lexer": "ipython2",
   "version": "2.7.6"
  }
 },
 "nbformat": 4,
 "nbformat_minor": 0
}