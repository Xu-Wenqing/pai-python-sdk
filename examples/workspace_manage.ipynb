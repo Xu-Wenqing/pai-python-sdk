{
 "cells": [
  {
   "cell_type": "code",
   "execution_count": 1,
   "metadata": {
    "collapsed": true
   },
   "outputs": [],
   "source": [
    "from pai.session import setup_default_pai_session\n",
    "from pai.workspace import Workspace, WorkspaceRole"
   ]
  },
  {
   "cell_type": "markdown",
   "source": [
    "## Provide Credentials."
   ],
   "metadata": {
    "collapsed": false,
    "pycharm": {
     "name": "#%% md\n"
    }
   }
  },
  {
   "cell_type": "code",
   "execution_count": 2,
   "outputs": [],
   "source": [
    "# access_key_id = \"your_access_key_id\"\n",
    "# access_key_secret = \"your_access_key_secret\"\n",
    "# region_id = \"cn-shanghai\"\n",
    "#\n",
    "# workspace_name = 'your_workspace_name'"
   ],
   "metadata": {
    "collapsed": false,
    "pycharm": {
     "name": "#%%\n"
    }
   }
  },
  {
   "cell_type": "code",
   "execution_count": 3,
   "outputs": [],
   "source": [
    "access_key_id = \"AccessKeyId\"\n",
    "access_key_secret = \"3AccessKeySecret\"\n",
    "region_id = \"cn-shanghai\"\n",
    "workspace_name = 'hello_world_v3'\n"
   ],
   "metadata": {
    "collapsed": false,
    "pycharm": {
     "name": "#%%\n"
    }
   }
  },
  {
   "cell_type": "markdown",
   "source": [
    "## Setup session with workspace.\n",
    "\n",
    "### Create workspace and bind with session."
   ],
   "metadata": {
    "collapsed": false,
    "pycharm": {
     "name": "#%% md\n"
    }
   }
  },
  {
   "cell_type": "code",
   "source": [
    "# Setup default PAI session\n",
    "session = setup_default_pai_session(access_key_id=access_key_id, access_key_secret=access_key_secret,\n",
    "                                    region_id=\"cn-shanghai\",)\n",
    "\n",
    "# Get current available workspace\n",
    "for ws in Workspace.list():\n",
    "    print(ws)\n",
    "\n",
    "\n",
    "# Get the exist workspace or create.\n",
    "ws = Workspace.get_by_name(workspace_name)\n",
    "if not ws:\n",
    "    ws = Workspace.create(name=workspace_name)\n",
    "\n",
    "# set workspace profile for the current default session.\n",
    "session.set_workspace(ws)"
   ],
   "metadata": {
    "collapsed": false,
    "pycharm": {
     "name": "#%%\n"
    }
   },
   "execution_count": 4,
   "outputs": [
    {
     "name": "stdout",
     "output_type": "stream",
     "text": [
      "Workspace:hello_world_v2:ws-jynmh6jnmjop5s3w43\n",
      "Workspace:test_workspace_3590091:ws-lacpjbfzdoyhioxnic\n",
      "Workspace:hello_world:ws-7d8doqhbej4c8ydw02\n",
      "Workspace:HelloWorld:ws-sat892ijv114iy10zk\n",
      "Workspace:test_workspace_1694525:ws-vv61p0si0jwpe5vk8u\n",
      "Workspace:test_workspace_8856062:ws-2n3qun86e88xn5wldo\n",
      "Workspace:test_workspace_5436751:ws-xq5mdx4f9fz0nbf396\n",
      "Workspace:test_workspace_3672598:ws-oo0wzvyp8iywu1jdpt\n",
      "Workspace:test_workspace_7665668:ws-2eliic9iqtbhvuq4vj\n",
      "Workspace:test_workspace_3340427:ws-ovx9vvuvrp48pn1mwd\n",
      "Workspace:test_workspace_8962043:ws-pn9l9pya2o8udhfsx7\n",
      "Workspace:test_workspace_3859793:ws-cb9detmmxzhda5akuk\n",
      "Workspace:test_workspace_1699957:ws-qpe5y0im7z5wzx6mmi\n",
      "Workspace:test_workspace_3233454:ws-8mci2kc4empw5a7l6o\n",
      "Workspace:test_workspace_4090258:ws-y2wywdkeqkargx8d1a\n",
      "Workspace:test_workspace_9180228:ws-6kz94fs7f6ghgl6hv9\n",
      "Workspace:test_workspace_2968870:ws-cjgo0z221a0q4n23g3\n",
      "Workspace:test_workspace_9547456:ws-okom073336lx88km3u\n",
      "Workspace:test_workspace_5581170:ws-1jrf9qiw0fmv12umso\n",
      "Workspace:test_workspace_8231215:ws-s4vyl2leynb2jh67ej\n",
      "Workspace:test_workspace_6154021:ws-r9526092jwipfenfg9\n",
      "Workspace:test-d:ws-hynlaqwb5mrzsza7lg\n",
      "Workspace:sddddf:ws-rde6c5qedlz0jpu7sh\n",
      "Workspace:test_workspace_8348944:ws-ncbtxr2dhdl4f70wkk\n",
      "Workspace:test_workspace_9248515:ws-vz4850qla4vmw0vnc2\n",
      "Workspace:test_workspace_8818285:ws-p1378hxx9rndt3mnkp\n",
      "Workspace:test_workspace_9703893:ws-0fnrdfzi8c2rw7745z\n",
      "Workspace:test_workspace_3414813:ws-8j072vgi9adzbk04pa\n",
      "Workspace:test_workspace_3279336:ws-98zap0nc1prdbm2eh8\n",
      "Workspace:test_workspace_3986487:ws-rz9mn87ime29qd0d6r\n",
      "Workspace:test_workspace_8239393:ws-fat0l8sst5m55kc0xt\n",
      "Workspace:test_workspace_5692479:ws-q9aifv70liewobr73s\n",
      "Workspace:test_workspace_6800970:ws-hyyj0wfjpr4hytqshi\n",
      "Workspace:test_workspace_2332583:ws-kieip6a3yglxwmls4t\n",
      "Workspace:test_workspace_3966363:ws-nt1cw7gg830zjez3qj\n",
      "Workspace:test_workspace_3290113:ws-kllctse3tqpgxuchwi\n",
      "Workspace:test_workspace_2441909:ws-bbkajrc79nk135725c\n",
      "Workspace:test_workspace_4795248:ws-wik6muxt1xtro5ro2m\n",
      "Workspace:test_workspace_8793411:ws-337ecsjs0osrsk5jto\n",
      "Workspace:test_workspace_9817209:ws-6wiuqa38nt7z1nbe6y\n",
      "Workspace:test_workspace_9120767:ws-ddztjf9g7j6f68yw7s\n",
      "Workspace:test_workspace_1594740:ws-ewtx667v3jmoozdpxy\n",
      "Workspace:test_workspace_1122221:ws-hycnkld2lic6vyltp0\n",
      "Workspace:test_workspace_1863807:ws-quk3amlnq1qanekcr6\n"
     ]
    }
   ]
  },
  {
   "cell_type": "markdown",
   "source": [
    "### Init default session with existing workspace."
   ],
   "metadata": {
    "collapsed": false,
    "pycharm": {
     "name": "#%% md\n"
    }
   }
  },
  {
   "cell_type": "code",
   "execution_count": 5,
   "outputs": [],
   "source": [
    "session = setup_default_pai_session(access_key_id=access_key_id, access_key_secret=access_key_secret,\n",
    "                                    region_id=region_id, workspace_name=workspace_name)\n",
    "\n"
   ],
   "metadata": {
    "collapsed": false,
    "pycharm": {
     "name": "#%%\n"
    }
   }
  },
  {
   "cell_type": "markdown",
   "source": [
    "## Workspace member manager"
   ],
   "metadata": {
    "collapsed": false,
    "pycharm": {
     "name": "#%% md\n"
    }
   }
  },
  {
   "cell_type": "code",
   "execution_count": 6,
   "outputs": [
    {
     "name": "stdout",
     "output_type": "stream",
     "text": [
      "WorkspaceMember:mb-j5smgks2iylv25omlb:1557702098194904:mingshi_test\n",
      "WorkspaceMember:mb-bzv8o237zf8a50vckg:205895903807412211:None\n",
      "WorkspaceMember:mb-v6984ez06k7xnllmch:212011309602066886:pai_tb_test\n",
      "WorkspaceMember:mb-j5smgks2iylv25omlb:1557702098194904:mingshi_test\n",
      "WorkspaceMember:mb-bzv8o237zf8a50vckg:205895903807412211:mingshi\n"
     ]
    }
   ],
   "source": [
    "## Get current member list of workspace\n",
    "for member in ws.list_member():\n",
    "    print(member)\n",
    "\n",
    "## List users not exist in the workspace.\n",
    "ws_excluded_user_infos = list(ws.list_excluded_user_info())\n",
    "\n",
    "member_1 = ws.add_member(ws_excluded_user_infos[0].user_id, role=WorkspaceRole.Developer)\n",
    "member_2 = ws.add_member(ws_excluded_user_infos[1].user_id, role=WorkspaceRole.Viewer)\n",
    "\n",
    "print(member_1)\n",
    "\n",
    "for member in ws.list_member():\n",
    "    print(member)\n",
    "\n",
    "# delete current workspace member.\n",
    "ws.delete_member(member_1.id)\n",
    "ws.delete_member(member_2.id)"
   ],
   "metadata": {
    "collapsed": false,
    "pycharm": {
     "name": "#%%\n"
    }
   }
  }
 ],
 "metadata": {
  "kernelspec": {
   "name": "paiflow3",
   "language": "python",
   "display_name": "paiflow3"
  },
  "language_info": {
   "codemirror_mode": {
    "name": "ipython",
    "version": 2
   },
   "file_extension": ".py",
   "mimetype": "text/x-python",
   "name": "python",
   "nbconvert_exporter": "python",
   "pygments_lexer": "ipython2",
   "version": "2.7.6"
  }
 },
 "nbformat": 4,
 "nbformat_minor": 0
}