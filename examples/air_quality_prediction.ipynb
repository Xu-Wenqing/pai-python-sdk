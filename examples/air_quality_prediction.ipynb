{
 "metadata": {
  "language_info": {
   "codemirror_mode": {
    "name": "ipython",
    "version": 3
   },
   "file_extension": ".py",
   "mimetype": "text/x-python",
   "name": "python",
   "nbconvert_exporter": "python",
   "pygments_lexer": "ipython3",
   "version": "3.7.3-final"
  },
  "orig_nbformat": 2,
  "kernelspec": {
   "name": "python2",
   "language": "python",
   "display_name": "Python 2"
  }
 },
 "nbformat": 4,
 "nbformat_minor": 2,
 "cells": [
  {
   "cell_type": "code",
   "execution_count": 1,
   "outputs": [],
   "source": [
    "import time\n",
    "from pai import Session, Pipeline,  ProviderAlibabaPAI\n",
    "from pai.pipeline.parameter import ParameterType\n",
    "\n",
    "config = {\n",
    "    \"access_key_id\": \"AccessKeyId\",\n",
    "    \"access_key_secret\": \"3AccessKeySecret\",\n",
    "    \"region_id\": \"cn-shanghai\",\n",
    "    \"odps_project\": \"pai_sdk_test\",\n",
    "    }\n",
    "session = Session(**config)"
   ],
   "metadata": {
    "collapsed": false,
    "pycharm": {
     "name": "#%%\n"
    }
   }
  },
  {
   "cell_type": "code",
   "execution_count": 2,
   "metadata": {},
   "outputs": [],
   "source": [
    "pipeline_info = session.get_pipeline(identifier=\"logisticregression-binary-xflow-maxCompute\", provider=ProviderAlibabaPAI, version=\"v1\")"
   ]
  },
  {
   "cell_type": "code",
   "execution_count": 3,
   "metadata": {
    "tags": []
   },
   "outputs": [],
   "source": [
    "print(pipeline_info[\"Manifest\"])"
   ]
  },
  {
   "cell_type": "code",
   "execution_count": 4,
   "metadata": {},
   "outputs": [],
   "source": [
    "def create_air_quality_pipeline(session):\n",
    "    p = Pipeline.new_pipeline(\n",
    "        identifier=\"test-composite-lr-pipeline\",\n",
    "        version=\"v%s\" % (str(int(time.time() * 1000))),\n",
    "        session=session,\n",
    "    )\n",
    "\n",
    "    xflow_execution_input = p.create_input_parameter(\n",
    "        \"xflow_execution\", ParameterType.Map, required=True,\n",
    "    )\n",
    "\n",
    "    table_input = p.create_input_parameter(\n",
    "        \"table_name\", ParameterType.String, required=False,\n",
    "        value=\"pai_online_project.wumai_data\",\n",
    "    )\n",
    "    cols_to_double_input = p.create_input_parameter(\n",
    "        \"cols_to_double\", ParameterType.String, required=False,\n",
    "        value=\"time,hour,pm2,pm10,so2,co,no2\",\n",
    "    )\n",
    "    sql_input = p.create_input_parameter(\n",
    "        \"sql\", ParameterType.String, required=False,\n",
    "        value=\"select time,hour,(case when pm2>200 then 1 else 0 end),pm10,so2,co,no2\"\n",
    "                \" from pai_sdk_temp_172808_1779985_100\",\n",
    "    )\n",
    "    normalize_cols_input = p.create_input_parameter(\n",
    "        \"normalize_selected_col_names\", ParameterType.String,\n",
    "        required=False,\n",
    "        value=\"pm10,so2,co,no2\",\n",
    "    )\n",
    "\n",
    "    fraction_input = p.create_input_parameter(\n",
    "        \"fraction\", ParameterType.Double, required=False,\n",
    "        value=0.8)\n",
    "\n",
    "    logistic_feature_col_input = p.create_input_parameter(\n",
    "        \"logisticregression_feature_col_names\", ParameterType.String,\n",
    "        required=False,\n",
    "        value='pm10,so2,co,no2')\n",
    "\n",
    "    logistic_label_col_names = p.create_input_parameter(\n",
    "        \"logisticregression_label_col_names\", ParameterType.String,\n",
    "        required=False,\n",
    "        value=\"_c2\")\n",
    "    logistic_good_value_input = p.create_input_parameter(\n",
    "        \"logisticregression_good_value\", ParameterType.Integer,\n",
    "        required=False,\n",
    "        value=1)\n",
    "\n",
    "    prediction_feature_col_input = p.create_input_parameter(\n",
    "        \"prediction_feature_col_names\", ParameterType.String, required=False,\n",
    "        value=\"pm10,so2,co,no2\",\n",
    "    )\n",
    "    prediction_append_col_input = p.create_input_parameter(\n",
    "        \"prediction_append_col_names\", ParameterType.String, required=False,\n",
    "        value=\"time,hour,_c2,pm10,so2,co,no2\")\n",
    "    prediction_result_col_input = p.create_input_parameter(\n",
    "        \"prediction_result_col_names\", ParameterType.String, required=False,\n",
    "        value=\"prediction_result\")\n",
    "    prediction_score_col_input = p.create_input_parameter(\n",
    "        \"prediction_score_col_names\", ParameterType.String, required=False,\n",
    "        value=\"prediction_score\")\n",
    "    prediction_detail_col_input = p.create_input_parameter(\n",
    "        \"prediction_detail_col_names\", ParameterType.String, required=False,\n",
    "        value=\"prediction_detail\")\n",
    "\n",
    "    evaluate_label_col_input = p.create_input_parameter(\n",
    "        \"evaluate_label_col_name\", ParameterType.String, required=False,\n",
    "        value=\"_c2\")\n",
    "    evaluate_score_col_input = p.create_input_parameter(\n",
    "        \"evaluate_score_col_name\", ParameterType.String, required=False,\n",
    "        value=\"prediction_score\")\n",
    "    evaluate_positive_label_input = p.create_input_parameter(\n",
    "        \"evaluate_positive_label\", ParameterType.Integer, required=False,\n",
    "        value=1)\n",
    "    evaluate_bin_count_input = p.create_input_parameter(\n",
    "        \"evaluate2_bin_count\", ParameterType.Integer, required=False,\n",
    "        value=1000)\n",
    "\n",
    "    oss_bucket_input = p.create_input_parameter(\n",
    "        \"oss_bucket\", ParameterType.String, required=False,\n",
    "        value=\"dataplus-pai-test\",\n",
    "    )\n",
    "\n",
    "    oss_endpoint_input = p.create_input_parameter(\n",
    "        \"oss_endpoint\", ParameterType.String, required=False,\n",
    "        value=\"oss-cn-shanghai.aliyuncs.com\",\n",
    "    )\n",
    "    oss_key_input = p.create_input_parameter(\n",
    "        \"oss_key\", ParameterType.String, required=False,\n",
    "        value=\"/paiflow/model_transfer2oss_test/\",\n",
    "    )\n",
    "    rolearn_input = p.create_input_parameter(\n",
    "        \"rolearn\", ParameterType.String, required=True\n",
    "    )\n",
    "\n",
    "    data_source_step = p.create_step(\"dataSource-xflow-maxCompute\",\n",
    "                                        provider=ProviderAlibabaPAI,\n",
    "                                        version=\"v1\", name=\"dataSource\")\n",
    "\n",
    "    data_source_step.set_arguments(\n",
    "        execution=xflow_execution_input,\n",
    "        tableName=table_input\n",
    "    )\n",
    "\n",
    "    type_transform_step = p.create_step(\"type-transform-xflow-maxCompute\",\n",
    "                                        provider=ProviderAlibabaPAI,\n",
    "                                        name=\"typeTransform\")\n",
    "    type_transform_step.set_arguments(\n",
    "        inputArtifact=data_source_step.outputs[\"outputArtifact\"],\n",
    "        execution=xflow_execution_input,\n",
    "        outputTable=\"pai_sdk_temp_172808_1779985_100\",\n",
    "        cols_to_double=cols_to_double_input,\n",
    "    )\n",
    "\n",
    "    sql_step = p.create_step(\"sql-xflow-maxCompute\",\n",
    "                                provider=ProviderAlibabaPAI,\n",
    "                                name=\"sql\")\n",
    "    sql_step.set_arguments(\n",
    "        inputArtifact1=type_transform_step.outputs[\"outputArtifact\"],\n",
    "        execution=xflow_execution_input,\n",
    "        outputTable=\"pai_sdk_temp_83935_1099579_1\",\n",
    "        sql=sql_input,\n",
    "    )\n",
    "\n",
    "    normalized_step = p.create_step(\"normalize-xflow-maxCompute\",\n",
    "                                    provider=ProviderAlibabaPAI,\n",
    "                                    name=\"normalize\")\n",
    "    normalized_step.set_arguments(\n",
    "        inputArtifact=sql_step.outputs[\"outputArtifact\"],\n",
    "        execution=xflow_execution_input,\n",
    "        outputTableName=\"pai_sdk_temp_83935_1099582_1\",\n",
    "        outputParaTableName=\"pai_sdk_temp_83935_1099582_2\",\n",
    "        selectedColNames=normalize_cols_input,\n",
    "    )\n",
    "\n",
    "    split_step = p.create_step(\"split-xflow-maxCompute\",\n",
    "                                provider=ProviderAlibabaPAI,\n",
    "                                name=\"split\")\n",
    "    split_step.set_arguments(\n",
    "        inputArtifact=normalized_step.outputs[\"outputArtifact\"],\n",
    "        execution=xflow_execution_input,\n",
    "        output1TableName=\"pai_sdk_temp_83935_1099583_1\",\n",
    "        fraction=fraction_input,\n",
    "        output2TableName=\"pai_sdk_temp_83935_1199583_1\",\n",
    "    )\n",
    "\n",
    "    logistic_step = p.create_step(\"logisticregression-binary-xflow-maxCompute\",\n",
    "                                    provider=ProviderAlibabaPAI,\n",
    "                                    name=\"logisticregression\")\n",
    "\n",
    "    logistic_step.set_arguments(\n",
    "        inputArtifact=split_step.outputs[\"outputArtifact1\"],\n",
    "        execution=xflow_execution_input,\n",
    "        modelName=\"xlab_m_logisticregres_1099587_v0\",\n",
    "        featureColNames=logistic_feature_col_input,\n",
    "        labelColName=logistic_label_col_names,\n",
    "        goodValue=logistic_good_value_input,\n",
    "    )\n",
    "\n",
    "    prediction2_step = p.create_step(\"prediction-xflow-maxCompute\",\n",
    "                                        provider=ProviderAlibabaPAI,\n",
    "                                        name=\"prediction2\")\n",
    "    prediction2_step.set_arguments(\n",
    "        inputModelArtifact=logistic_step.outputs[\"outputArtifact\"],\n",
    "        inputDataSetArtifact=split_step.outputs[\"outputArtifact2\"],\n",
    "        execution=xflow_execution_input,\n",
    "        outputTableName=\"pai_sdk_temp_83935_1099588_1\",\n",
    "        featureColNames=prediction_feature_col_input,\n",
    "        appendColNames=prediction_append_col_input,\n",
    "        resultColName=prediction_result_col_input,\n",
    "        scoreColName=prediction_score_col_input,\n",
    "        detailColName=prediction_detail_col_input,\n",
    "    )\n",
    "\n",
    "    evaluate2_step = p.create_step(\"evaluate-xflow-maxCompute\",\n",
    "                                    provider=ProviderAlibabaPAI,\n",
    "                                    name=\"evaluate2\")\n",
    "    evaluate2_step.set_arguments(\n",
    "        inputArtifact=prediction2_step.outputs[\"outputArtifact\"],\n",
    "        execution=xflow_execution_input,\n",
    "        outputDetailTableName=\"pai_sdk_temp_83935_1099589_1\",\n",
    "        outputMetricTableName=\"pai_sdk_temp_83935_1428529_1\",\n",
    "        outputELDetailTableName=\"pai_sdk_temp_83935_1199589_1\",\n",
    "        labelColName=evaluate_label_col_input,\n",
    "        scoreColName=evaluate_score_col_input,\n",
    "        positiveLabel=evaluate_positive_label_input,\n",
    "        binCount=evaluate_bin_count_input,\n",
    "    )\n",
    "\n",
    "    modeltransfer2oss_step = p.create_step(\n",
    "        \"modeltransfer2oss-xflow-maxCompute\",\n",
    "        provider=ProviderAlibabaPAI,\n",
    "        version=\"v1\",\n",
    "        name=\"model-transfer2oss\"\n",
    "    )\n",
    "\n",
    "    modeltransfer2oss_step.set_arguments(\n",
    "        execution=xflow_execution_input,\n",
    "        inputArtifact=logistic_step.outputs[\"outputArtifact\"],\n",
    "        bucket=oss_bucket_input,\n",
    "        endpoint=oss_endpoint_input,\n",
    "        path=oss_key_input,\n",
    "        rolearn=rolearn_input\n",
    "    )\n",
    "\n",
    "    p.create_output_artifact(\"offlineModel\", from_=logistic_step.outputs[\"outputArtifact\"])\n",
    "    p.create_output_artifact(\"pmmlModel\",\n",
    "                                from_=modeltransfer2oss_step.outputs[\"outputArtifact\"])\n",
    "    p.create_output_artifact(\"predictionResult\",\n",
    "                                from_=evaluate2_step.outputs[\"outputDetailArtifact\"])\n",
    "    return p\n"
   ]
  },
  {
   "cell_type": "code",
   "execution_count": 5,
   "metadata": {},
   "outputs": [],
   "source": [
    "p= create_air_quality_pipeline(session)"
   ]
  },
  {
   "cell_type": "code",
   "execution_count": 6,
   "metadata": {},
   "outputs": [],
   "source": [
    "arguments = {\n",
    "    \"xflow_execution\": {\n",
    "        \"odpsInfoFile\": \"/share/base/odpsInfo.ini\",\n",
    "        \"endpoint\": \"http://service.cn-shanghai.maxcompute.aliyun.com/api\",\n",
    "        \"logViewHost\": \"http://logview.odps.aliyun.com\",\n",
    "        \"odpsProject\": \"pai_sdk_test\",\n",
    "    },\n",
    "    \"rolearn\": \"acs:ram::1557702098194904:role/aliyunodpspaidefaultrole\",\n",
    "}\n"
   ]
  },
  {
   "cell_type": "code",
   "execution_count": 7,
   "metadata": {
    "tags": []
   },
   "outputs": [],
   "source": [
    "run_instance = p.run(name=\"test\", arguments=arguments, wait=False)"
   ]
  },
  {
   "cell_type": "code",
   "execution_count": 8,
   "metadata": {},
   "outputs": [
    {
     "data": {
      "text/plain": "u'Running'"
     },
     "execution_count": 8,
     "metadata": {},
     "output_type": "execute_result"
    }
   ],
   "source": [
    "run_instance.get_status()"
   ]
  },
  {
   "cell_type": "code",
   "execution_count": 9,
   "metadata": {
    "tags": [
     "outputPrepend"
    ]
   },
   "outputs": [
    {
     "data": {
      "text/plain": "<pai.pipeline.run.RunInstance at 0x11e229510>"
     },
     "execution_count": 9,
     "metadata": {},
     "output_type": "execute_result"
    }
   ],
   "source": [
    "run_instance.wait()"
   ]
  },
  {
   "cell_type": "code",
   "execution_count": 10,
   "metadata": {},
   "outputs": [
    {
     "data": {
      "text/plain": "<graphviz.dot.Digraph at 0x11e1fe610>",
      "image/svg+xml": "<?xml version=\"1.0\" encoding=\"UTF-8\" standalone=\"no\"?>\n<!DOCTYPE svg PUBLIC \"-//W3C//DTD SVG 1.1//EN\"\n \"http://www.w3.org/Graphics/SVG/1.1/DTD/svg11.dtd\">\n<!-- Generated by graphviz version 2.44.0 (20200408.0750)\n -->\n<!-- Pages: 1 -->\n<svg width=\"284pt\" height=\"548pt\"\n viewBox=\"0.00 0.00 284.34 548.00\" xmlns=\"http://www.w3.org/2000/svg\" xmlns:xlink=\"http://www.w3.org/1999/xlink\">\n<g id=\"graph0\" class=\"graph\" transform=\"scale(1 1) rotate(0) translate(4 544)\">\n<polygon fill=\"white\" stroke=\"transparent\" points=\"-4,4 -4,-544 280.34,-544 280.34,4 -4,4\"/>\n<!-- dataSource -->\n<g id=\"node1\" class=\"node\">\n<title>dataSource</title>\n<ellipse fill=\"none\" stroke=\"black\" cx=\"100.7\" cy=\"-522\" rx=\"50.09\" ry=\"18\"/>\n<text text-anchor=\"middle\" x=\"100.7\" y=\"-518.3\" font-family=\"Times,serif\" font-size=\"14.00\">dataSource</text>\n</g>\n<!-- typeTransform -->\n<g id=\"node2\" class=\"node\">\n<title>typeTransform</title>\n<ellipse fill=\"none\" stroke=\"black\" cx=\"100.7\" cy=\"-450\" rx=\"63.89\" ry=\"18\"/>\n<text text-anchor=\"middle\" x=\"100.7\" y=\"-446.3\" font-family=\"Times,serif\" font-size=\"14.00\">typeTransform</text>\n</g>\n<!-- dataSource&#45;&gt;typeTransform -->\n<g id=\"edge1\" class=\"edge\">\n<title>dataSource&#45;&gt;typeTransform</title>\n<path fill=\"none\" stroke=\"black\" d=\"M100.7,-503.7C100.7,-495.98 100.7,-486.71 100.7,-478.11\"/>\n<polygon fill=\"black\" stroke=\"black\" points=\"104.2,-478.1 100.7,-468.1 97.2,-478.1 104.2,-478.1\"/>\n</g>\n<!-- sql -->\n<g id=\"node3\" class=\"node\">\n<title>sql</title>\n<ellipse fill=\"none\" stroke=\"black\" cx=\"100.7\" cy=\"-378\" rx=\"27\" ry=\"18\"/>\n<text text-anchor=\"middle\" x=\"100.7\" y=\"-374.3\" font-family=\"Times,serif\" font-size=\"14.00\">sql</text>\n</g>\n<!-- typeTransform&#45;&gt;sql -->\n<g id=\"edge2\" class=\"edge\">\n<title>typeTransform&#45;&gt;sql</title>\n<path fill=\"none\" stroke=\"black\" d=\"M100.7,-431.7C100.7,-423.98 100.7,-414.71 100.7,-406.11\"/>\n<polygon fill=\"black\" stroke=\"black\" points=\"104.2,-406.1 100.7,-396.1 97.2,-406.1 104.2,-406.1\"/>\n</g>\n<!-- normalize -->\n<g id=\"node4\" class=\"node\">\n<title>normalize</title>\n<ellipse fill=\"none\" stroke=\"black\" cx=\"100.7\" cy=\"-306\" rx=\"46.29\" ry=\"18\"/>\n<text text-anchor=\"middle\" x=\"100.7\" y=\"-302.3\" font-family=\"Times,serif\" font-size=\"14.00\">normalize</text>\n</g>\n<!-- sql&#45;&gt;normalize -->\n<g id=\"edge3\" class=\"edge\">\n<title>sql&#45;&gt;normalize</title>\n<path fill=\"none\" stroke=\"black\" d=\"M100.7,-359.7C100.7,-351.98 100.7,-342.71 100.7,-334.11\"/>\n<polygon fill=\"black\" stroke=\"black\" points=\"104.2,-334.1 100.7,-324.1 97.2,-334.1 104.2,-334.1\"/>\n</g>\n<!-- split -->\n<g id=\"node5\" class=\"node\">\n<title>split</title>\n<ellipse fill=\"none\" stroke=\"black\" cx=\"100.7\" cy=\"-234\" rx=\"27\" ry=\"18\"/>\n<text text-anchor=\"middle\" x=\"100.7\" y=\"-230.3\" font-family=\"Times,serif\" font-size=\"14.00\">split</text>\n</g>\n<!-- normalize&#45;&gt;split -->\n<g id=\"edge4\" class=\"edge\">\n<title>normalize&#45;&gt;split</title>\n<path fill=\"none\" stroke=\"black\" d=\"M100.7,-287.7C100.7,-279.98 100.7,-270.71 100.7,-262.11\"/>\n<polygon fill=\"black\" stroke=\"black\" points=\"104.2,-262.1 100.7,-252.1 97.2,-262.1 104.2,-262.1\"/>\n</g>\n<!-- logisticregression -->\n<g id=\"node6\" class=\"node\">\n<title>logisticregression</title>\n<ellipse fill=\"none\" stroke=\"black\" cx=\"151.7\" cy=\"-162\" rx=\"72.59\" ry=\"18\"/>\n<text text-anchor=\"middle\" x=\"151.7\" y=\"-158.3\" font-family=\"Times,serif\" font-size=\"14.00\">logisticregression</text>\n</g>\n<!-- split&#45;&gt;logisticregression -->\n<g id=\"edge5\" class=\"edge\">\n<title>split&#45;&gt;logisticregression</title>\n<path fill=\"none\" stroke=\"black\" d=\"M112.01,-217.46C118.28,-208.87 126.22,-197.97 133.34,-188.19\"/>\n<polygon fill=\"black\" stroke=\"black\" points=\"136.28,-190.11 139.34,-179.96 130.62,-185.98 136.28,-190.11\"/>\n</g>\n<!-- prediction2 -->\n<g id=\"node7\" class=\"node\">\n<title>prediction2</title>\n<ellipse fill=\"none\" stroke=\"black\" cx=\"50.7\" cy=\"-90\" rx=\"50.89\" ry=\"18\"/>\n<text text-anchor=\"middle\" x=\"50.7\" y=\"-86.3\" font-family=\"Times,serif\" font-size=\"14.00\">prediction2</text>\n</g>\n<!-- split&#45;&gt;prediction2 -->\n<g id=\"edge7\" class=\"edge\">\n<title>split&#45;&gt;prediction2</title>\n<path fill=\"none\" stroke=\"black\" d=\"M89.8,-217.44C83.11,-207.22 74.86,-193.32 69.7,-180 61.95,-160.02 57.08,-136.23 54.21,-118.28\"/>\n<polygon fill=\"black\" stroke=\"black\" points=\"57.64,-117.57 52.71,-108.2 50.72,-118.6 57.64,-117.57\"/>\n</g>\n<!-- logisticregression&#45;&gt;prediction2 -->\n<g id=\"edge6\" class=\"edge\">\n<title>logisticregression&#45;&gt;prediction2</title>\n<path fill=\"none\" stroke=\"black\" d=\"M128.27,-144.76C114.34,-135.11 96.5,-122.75 81.45,-112.31\"/>\n<polygon fill=\"black\" stroke=\"black\" points=\"83.17,-109.25 72.95,-106.43 79.18,-115 83.17,-109.25\"/>\n</g>\n<!-- model&#45;transfer2oss -->\n<g id=\"node9\" class=\"node\">\n<title>model&#45;transfer2oss</title>\n<ellipse fill=\"none\" stroke=\"black\" cx=\"197.7\" cy=\"-90\" rx=\"78.79\" ry=\"18\"/>\n<text text-anchor=\"middle\" x=\"197.7\" y=\"-86.3\" font-family=\"Times,serif\" font-size=\"14.00\">model&#45;transfer2oss</text>\n</g>\n<!-- logisticregression&#45;&gt;model&#45;transfer2oss -->\n<g id=\"edge9\" class=\"edge\">\n<title>logisticregression&#45;&gt;model&#45;transfer2oss</title>\n<path fill=\"none\" stroke=\"black\" d=\"M162.83,-144.05C168.23,-135.84 174.83,-125.79 180.83,-116.66\"/>\n<polygon fill=\"black\" stroke=\"black\" points=\"183.78,-118.55 186.34,-108.28 177.93,-114.71 183.78,-118.55\"/>\n</g>\n<!-- evaluate2 -->\n<g id=\"node8\" class=\"node\">\n<title>evaluate2</title>\n<ellipse fill=\"none\" stroke=\"black\" cx=\"50.7\" cy=\"-18\" rx=\"44.39\" ry=\"18\"/>\n<text text-anchor=\"middle\" x=\"50.7\" y=\"-14.3\" font-family=\"Times,serif\" font-size=\"14.00\">evaluate2</text>\n</g>\n<!-- prediction2&#45;&gt;evaluate2 -->\n<g id=\"edge8\" class=\"edge\">\n<title>prediction2&#45;&gt;evaluate2</title>\n<path fill=\"none\" stroke=\"black\" d=\"M50.7,-71.7C50.7,-63.98 50.7,-54.71 50.7,-46.11\"/>\n<polygon fill=\"black\" stroke=\"black\" points=\"54.2,-46.1 50.7,-36.1 47.2,-46.1 54.2,-46.1\"/>\n</g>\n</g>\n</svg>\n"
     },
     "execution_count": 10,
     "metadata": {},
     "output_type": "execute_result"
    }
   ],
   "source": [
    "p.dot()"
   ]
  },
  {
   "cell_type": "code",
   "execution_count": 10,
   "metadata": {},
   "outputs": [],
   "source": []
  }
 ]
}